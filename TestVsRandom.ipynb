{
 "cells": [
  {
   "cell_type": "code",
   "execution_count": null,
   "id": "raising-amino",
   "metadata": {},
   "outputs": [],
   "source": [
    "from player import Player\n",
    "from dealer import Dealer\n",
    "from game import TrucoGame\n",
    "from environment import TrucoEnvironment\n",
    "from agent import Agent, save_agent, load_agent, RandomAgent\n",
    "from actions import game_actions, game_actions_list\n",
    "import random\n",
    "import itertools\n",
    "import torch as T\n",
    "import numpy as np\n",
    "import logging"
   ]
  },
  {
   "cell_type": "code",
   "execution_count": null,
   "id": "limited-slave",
   "metadata": {},
   "outputs": [],
   "source": [
    "device = T.device(\"cuda:0\" if T.cuda.is_available() else \"cpu\")\n",
    "log_level = logging.INFO"
   ]
  },
  {
   "cell_type": "code",
   "execution_count": null,
   "id": "narrow-projector",
   "metadata": {},
   "outputs": [],
   "source": [
    "load_names = ['Bird']\n",
    "\n",
    "loaded_agents = [load_agent(name, device) for name in load_names]\n",
    "\n",
    "agents = [*loaded_agents, RandomAgent(Player(\"Random Bob\"))]\n",
    "\n",
    "random.shuffle(agents)\n",
    "\n",
    "envs = [TrucoEnvironment([a1.player, a2.player], logging_level=log_level) for a1, a2 in zip(agents[0::2], agents[1::2])]"
   ]
  },
  {
   "cell_type": "code",
   "execution_count": null,
   "id": "concrete-neutral",
   "metadata": {},
   "outputs": [],
   "source": [
    "def get_env_by_agent(envs, agent):\n",
    "    for env in envs:\n",
    "        if agent.player in env.players:\n",
    "            return env\n",
    "    return None\n",
    "\n",
    "def get_agents_by_env(agents, env):\n",
    "    playing = []\n",
    "    for agent in agents:\n",
    "        if agent.player in env.players:\n",
    "            playing.append(agent)\n",
    "    return playing[0], playing[1]"
   ]
  },
  {
   "cell_type": "code",
   "execution_count": null,
   "id": "miniature-upgrade",
   "metadata": {},
   "outputs": [],
   "source": [
    "PLAYER_SWAP_FREQ=35000"
   ]
  },
  {
   "cell_type": "code",
   "execution_count": null,
   "id": "matched-poverty",
   "metadata": {},
   "outputs": [],
   "source": [
    "import warnings\n",
    "warnings.simplefilter(action='ignore', category=FutureWarning)\n",
    "\n",
    "from timeit import default_timer as timer\n",
    "import datetime\n",
    "\n",
    "for epoch in itertools.count():\n",
    "    print(f\"Starting epoch: {epoch}\")\n",
    "    epoch_start = timer()\n",
    "    \n",
    "    for env in envs:\n",
    "        \n",
    "        env_start = timer()\n",
    "\n",
    "        starting_player, legal_actions, game_state = env.reset(False)\n",
    "        playing_agents = get_agents_by_env(agents, env)\n",
    "\n",
    "        # Main training loop\n",
    "        for step in itertools.count():\n",
    "            agent = [agent for agent in playing_agents if agent.player == starting_player][0]\n",
    "\n",
    "            action = agent.choose_action(legal_actions, game_state)\n",
    "\n",
    "            # Take action, observe outcome\n",
    "            rew, done, next_player, next_legal_actions, new_game_state = env.step(agent.player, action)\n",
    "\n",
    "            starting_player = next_player\n",
    "            legal_actions = next_legal_actions\n",
    "            game_state = new_game_state\n",
    "\n",
    "            if done:\n",
    "                # Give agents their episode reward\n",
    "                for agent in playing_agents:\n",
    "                    agent.save_reward(env.game.get_score(agent.player))\n",
    "\n",
    "                starting_player, legal_actions, game_state = env.reset(False)\n",
    "\n",
    "            # Logging\n",
    "            if step % 35000 == 0 and step > 0:\n",
    "                for agent in playing_agents:\n",
    "                    avg_reward = np.mean(agent.reward_buffer)\n",
    "                    print(f\"Step: {step} | Player: {agent.player.get_id()} | Avg reward: {avg_reward} | W/L: {max([w if p == agent.player else 0 for p, w in env.games_won])/env.games_played} | Games: {env.games_played} | Time: {str(datetime.timedelta(seconds=(timer() - env_start)))}\")   \n",
    "\n",
    "            # Break out of training loop when swap rate is reached\n",
    "            if step % PLAYER_SWAP_FREQ == 0 and step > 0:\n",
    "                print(f\"Player {playing_agents[0].player.get_id()} vs Player {playing_agents[1].player.get_id()} finished.\")\n",
    "                \n",
    "                # Clear GPU cache\n",
    "                T.cuda.empty_cache()\n",
    "                break;\n",
    "\n",
    "    \n",
    "                \n",
    "    # Destroy all envs\n",
    "    envs.clear()\n",
    "\n",
    "    random.shuffle(agents)\n",
    "\n",
    "    # Create new Envs\n",
    "    envs = [TrucoEnvironment([a1.player, a2.player], logging_level=log_level) for a1, a2 in zip(agents[0::2], agents[1::2])]\n",
    "\n",
    "    \n",
    "    print(f\"Epoch {epoch} finished in {str(datetime.timedelta(seconds=(timer() - epoch_start)))}\")\n",
    "    "
   ]
  },
  {
   "cell_type": "code",
   "execution_count": null,
   "id": "cleared-developer",
   "metadata": {},
   "outputs": [],
   "source": []
  }
 ],
 "metadata": {
  "kernelspec": {
   "display_name": "Python 3",
   "language": "python",
   "name": "python3"
  },
  "language_info": {
   "codemirror_mode": {
    "name": "ipython",
    "version": 3
   },
   "file_extension": ".py",
   "mimetype": "text/x-python",
   "name": "python",
   "nbconvert_exporter": "python",
   "pygments_lexer": "ipython3",
   "version": "3.9.1"
  }
 },
 "nbformat": 4,
 "nbformat_minor": 5
}
