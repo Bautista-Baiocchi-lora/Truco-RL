{
 "cells": [
  {
   "cell_type": "code",
   "execution_count": 46,
   "id": "oriental-artwork",
   "metadata": {},
   "outputs": [],
   "source": [
    "def get_card_winner():\n",
    "        p0_cards = [card for player, card in cards_played if player == first_move_by]\n",
    "        p1_cards = [card for player, card in cards_played if player == second_move_by]\n",
    "        \n",
    "        p0_wins=0\n",
    "        p1_wins=0\n",
    "        tie_exists = False\n",
    "        for c1, c2 in zip(p0_cards, p1_cards):\n",
    "            if p0_wins >= 2 or p1_wins >= 2:\n",
    "                break\n",
    "                \n",
    "            comparison = c1.tier - c2.tier\n",
    "            if comparison > 0:\n",
    "                p0_wins += 1\n",
    "                if tie_exists:\n",
    "                    break\n",
    "            elif comparison < 0:\n",
    "                p1_wins += 1\n",
    "                if tie_exists:\n",
    "                    break\n",
    "            elif comparison == 0:\n",
    "                if p0_wins > p1_wins:\n",
    "                    p1_wins += 1\n",
    "                    break\n",
    "                elif p1_wins > p0_wins:\n",
    "                    p1_wins += 1\n",
    "                    break\n",
    "                else:\n",
    "                    tie_exists = True\n",
    "                    \n",
    "            print(f\"p0_wins: {p0_wins} | p1_wins: {p1_wins} | {tie_exists}\")\n",
    "            \n",
    "        # incase of tie on last card\n",
    "        if (p0_wins + p1_wins) > 0 and p0_wins == p1_wins and tie_exists:\n",
    "            return first_move_by\n",
    "        \n",
    "        # incase of tie on all 3 cards\n",
    "        if p0_wins == 0 and p1_wins == 0 and tie_exists:\n",
    "            return first_move_by\n",
    "                \n",
    "        \n",
    "        return first_move_by if p0_wins >= p1_wins else second_move_by"
   ]
  },
  {
   "cell_type": "code",
   "execution_count": 78,
   "id": "phantom-organizer",
   "metadata": {},
   "outputs": [],
   "source": [
    "from player import Player\n",
    "from dealer import Dealer\n",
    "\n",
    "num_players = 2\n",
    "\n",
    "players = [Player(id) for id in range(num_players)]\n",
    "\n",
    "dealer = Dealer()\n",
    "dealer.deal_cards_in_order(players)\n",
    "\n",
    "p0 = players[0]\n",
    "p1 = players[1]\n",
    "\n",
    "cards_played = [(p0, p0.hand[0]),(p1, p1.hand[0]),(p0, p0.hand[1]),(p1, p1.hand[1]), (p0, p0.hand[2]), (p1, p1.hand[2])]\n",
    "\n",
    "\n",
    "first_move_by = cards_played[0][0]\n",
    "second_move_by = cards_played[1][0]"
   ]
  },
  {
   "cell_type": "code",
   "execution_count": 79,
   "id": "matched-terror",
   "metadata": {},
   "outputs": [
    {
     "name": "stdout",
     "output_type": "stream",
     "text": [
      "Player 0 | Cards: ['E5', 'C7', 'C3']\n",
      "Player 1 | Cards: ['B4', 'O10', 'O1']\n",
      "p0_wins: 1 | p1_wins: 0 | False\n",
      "p0_wins: 1 | p1_wins: 1 | False\n",
      "p0_wins: 2 | p1_wins: 1 | False\n",
      "Winner: 0\n"
     ]
    }
   ],
   "source": [
    "print(p0)\n",
    "print(p1)\n",
    "print(f\"Winner: {get_card_winner().get_id()}\")"
   ]
  },
  {
   "cell_type": "code",
   "execution_count": null,
   "id": "multiple-teens",
   "metadata": {},
   "outputs": [],
   "source": []
  }
 ],
 "metadata": {
  "kernelspec": {
   "display_name": "Python 3",
   "language": "python",
   "name": "python3"
  },
  "language_info": {
   "codemirror_mode": {
    "name": "ipython",
    "version": 3
   },
   "file_extension": ".py",
   "mimetype": "text/x-python",
   "name": "python",
   "nbconvert_exporter": "python",
   "pygments_lexer": "ipython3",
   "version": "3.9.1"
  }
 },
 "nbformat": 4,
 "nbformat_minor": 5
}
