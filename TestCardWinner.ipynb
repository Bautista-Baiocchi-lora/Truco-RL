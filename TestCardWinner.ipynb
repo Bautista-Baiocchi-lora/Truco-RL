{
 "cells": [
  {
   "cell_type": "code",
   "execution_count": 178,
   "id": "divided-weapon",
   "metadata": {},
   "outputs": [],
   "source": [
    "def get_card_winner():\n",
    "        p0_cards = [card for player, card in cards_played if player == first_move_by]\n",
    "        p1_cards = [card for player, card in cards_played if player == second_move_by]\n",
    "        \n",
    "        results = []\n",
    "        for c1, c2 in zip(p0_cards, p1_cards):\n",
    "            comparison = c1.tier - c2.tier\n",
    "            if comparison > 0:\n",
    "                print('p0 wins')\n",
    "                results.append('p0')\n",
    "            elif comparison < 0:\n",
    "                print('p1 wins')\n",
    "                results.append('p1')\n",
    "            elif comparison == 0:\n",
    "                print('tie')\n",
    "                results.append('tie')\n",
    "                    \n",
    "        if len(results) < 2:\n",
    "            return None\n",
    "            \n",
    "        from collections import Counter\n",
    "        \n",
    "        counts = Counter(results)\n",
    "        \n",
    "        if 'tie' in counts:\n",
    "            if results[0] == 'tie':\n",
    "                if results[1] == 'tie':\n",
    "                    if len(results) == 3:\n",
    "                        return first_move_by if results[2] == 'tie' or results[2] == 'p0' else second_move_by\n",
    "                    else:\n",
    "                        return None\n",
    "                else:\n",
    "                    return first_move_by if results[1] == 'p0' else second_move_by\n",
    "            elif results[1] == 'tie':\n",
    "                return first_move_by if results[0] == 'p0' else second_move_by\n",
    "            elif len(results) == 3 and results[2] == 'tie':\n",
    "                return first_move_by if  results[0] == 'p0' else second_move_by\n",
    "            else:\n",
    "                return None\n",
    "        elif 'p0' not in counts:\n",
    "            return second_move_by\n",
    "        elif 'p1' not in counts:\n",
    "            return first_move_by\n",
    "        else:\n",
    "            return first_move_by if counts['p0'] > counts['p1'] else second_move_by"
   ]
  },
  {
   "cell_type": "code",
   "execution_count": 203,
   "id": "tight-mayor",
   "metadata": {},
   "outputs": [],
   "source": [
    "from player import Player\n",
    "from dealer import Dealer\n",
    "\n",
    "num_players = 2\n",
    "\n",
    "players = [Player(id) for id in range(num_players)]\n",
    "\n",
    "dealer = Dealer()\n",
    "dealer.deal_cards_in_order(players)\n",
    "\n",
    "p0 = players[0]\n",
    "p1 = players[1]\n",
    "\n",
    "cards_played = [(p0, p0.hand[0]),(p1, p1.hand[0]),(p0, p0.hand[1]),(p1, p1.hand[1]), (p0, p0.hand[2]), (p1, p1.hand[2])]\n",
    "\n",
    "\n",
    "first_move_by = cards_played[0][0]\n",
    "second_move_by = cards_played[1][0]"
   ]
  },
  {
   "cell_type": "code",
   "execution_count": 204,
   "id": "north-reserve",
   "metadata": {},
   "outputs": [
    {
     "name": "stdout",
     "output_type": "stream",
     "text": [
      "Player 0 | Cards: ['O3', 'B3', 'C2']\n",
      "Player 1 | Cards: ['O12', 'B6', 'C6']\n",
      "p0 wins\n",
      "p0 wins\n",
      "p0 wins\n",
      "Winner: 0\n"
     ]
    }
   ],
   "source": [
    "print(p0)\n",
    "print(p1)\n",
    "print(f\"Winner: {get_card_winner().get_id()}\")"
   ]
  },
  {
   "cell_type": "code",
   "execution_count": null,
   "id": "solid-argument",
   "metadata": {},
   "outputs": [],
   "source": []
  }
 ],
 "metadata": {
  "kernelspec": {
   "display_name": "Python 3",
   "language": "python",
   "name": "python3"
  },
  "language_info": {
   "codemirror_mode": {
    "name": "ipython",
    "version": 3
   },
   "file_extension": ".py",
   "mimetype": "text/x-python",
   "name": "python",
   "nbconvert_exporter": "python",
   "pygments_lexer": "ipython3",
   "version": "3.9.1"
  }
 },
 "nbformat": 4,
 "nbformat_minor": 5
}
