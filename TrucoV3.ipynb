{
 "cells": [
  {
   "cell_type": "code",
   "execution_count": 3,
   "id": "attractive-liberia",
   "metadata": {},
   "outputs": [],
   "source": [
    "\n",
    "from card import Card\n",
    "from deck import init_truco_deck\n",
    "from actions import envido_actions, response_actions, truco_actions\n",
    "import numpy as np\n",
    "\n",
    "default_deck = np.array([card.get_index() for card in init_truco_deck()])\n",
    "\n",
    "envido_actions = np.concatenate((envido_actions, response_actions))\n",
    "\n",
    "truco_actions = np.concatenate((truco_actions, response_actions))\n",
    "\n",
    "\n",
    "\n",
    "def encode_card_array(cards):\n",
    "    if not isinstance(cards, list):\n",
    "        cards = [cards]\n",
    "    cards = [str(c) for c in cards]\n",
    "    return  [1 if card in cards else 0 for card in default_deck]\n",
    "\n",
    "    \n",
    "def encode_envido(action):\n",
    "    return [1 if a == action else 0 for a in envido_actions]\n",
    "\n",
    "def encode_truco(action):\n",
    "    return [1 if a == action else 0 for a in truco_actions]"
   ]
  },
  {
   "cell_type": "code",
   "execution_count": 5,
   "id": "emerging-smile",
   "metadata": {},
   "outputs": [
    {
     "name": "stdout",
     "output_type": "stream",
     "text": [
      "[1, 0, 0, 0, 0]\n"
     ]
    }
   ],
   "source": [
    "encode_truco('truco')"
   ]
  },
  {
   "cell_type": "code",
   "execution_count": 6,
   "id": "nominated-shopping",
   "metadata": {},
   "outputs": [
    {
     "ename": "NameError",
     "evalue": "name 'p0' is not defined",
     "output_type": "error",
     "traceback": [
      "\u001b[0;31m---------------------------------------------------------------------------\u001b[0m",
      "\u001b[0;31mNameError\u001b[0m                                 Traceback (most recent call last)",
      "\u001b[0;32m<ipython-input-6-dfb99e70b235>\u001b[0m in \u001b[0;36m<module>\u001b[0;34m\u001b[0m\n\u001b[1;32m      1\u001b[0m \u001b[0mc1\u001b[0m \u001b[0;34m=\u001b[0m \u001b[0;34m[\u001b[0m\u001b[0;34m'C1'\u001b[0m\u001b[0;34m,\u001b[0m \u001b[0;34m'C2'\u001b[0m\u001b[0;34m]\u001b[0m\u001b[0;34m\u001b[0m\u001b[0;34m\u001b[0m\u001b[0m\n\u001b[0;32m----> 2\u001b[0;31m \u001b[0mc2\u001b[0m \u001b[0;34m=\u001b[0m \u001b[0mp0\u001b[0m\u001b[0;34m.\u001b[0m\u001b[0mhand\u001b[0m\u001b[0;34m\u001b[0m\u001b[0;34m\u001b[0m\u001b[0m\n\u001b[0m\u001b[1;32m      3\u001b[0m \u001b[0;34m\u001b[0m\u001b[0m\n\u001b[1;32m      4\u001b[0m \u001b[0mencode_card_array\u001b[0m\u001b[0;34m(\u001b[0m\u001b[0;34m'C1'\u001b[0m\u001b[0;34m)\u001b[0m\u001b[0;34m\u001b[0m\u001b[0;34m\u001b[0m\u001b[0m\n",
      "\u001b[0;31mNameError\u001b[0m: name 'p0' is not defined"
     ]
    }
   ],
   "source": [
    "c1 = ['C1', 'C2']\n",
    "c2 = p0.hand\n",
    "\n",
    "encode_card_array('C1')"
   ]
  },
  {
   "cell_type": "code",
   "execution_count": 7,
   "id": "communist-honor",
   "metadata": {},
   "outputs": [
    {
     "ename": "ModuleNotFoundError",
     "evalue": "No module named 'more_itertools'",
     "output_type": "error",
     "traceback": [
      "\u001b[0;31m---------------------------------------------------------------------------\u001b[0m",
      "\u001b[0;31mModuleNotFoundError\u001b[0m                       Traceback (most recent call last)",
      "\u001b[0;32m<ipython-input-7-92df875dbe51>\u001b[0m in \u001b[0;36m<module>\u001b[0;34m\u001b[0m\n\u001b[1;32m      1\u001b[0m \u001b[0;32mfrom\u001b[0m \u001b[0mplayer\u001b[0m \u001b[0;32mimport\u001b[0m \u001b[0mPlayer\u001b[0m\u001b[0;34m\u001b[0m\u001b[0;34m\u001b[0m\u001b[0m\n\u001b[1;32m      2\u001b[0m \u001b[0;32mfrom\u001b[0m \u001b[0mdealer\u001b[0m \u001b[0;32mimport\u001b[0m \u001b[0mDealer\u001b[0m\u001b[0;34m\u001b[0m\u001b[0;34m\u001b[0m\u001b[0m\n\u001b[0;32m----> 3\u001b[0;31m \u001b[0;32mfrom\u001b[0m \u001b[0mgame\u001b[0m \u001b[0;32mimport\u001b[0m \u001b[0mTrucoGame\u001b[0m\u001b[0;34m\u001b[0m\u001b[0;34m\u001b[0m\u001b[0m\n\u001b[0m",
      "\u001b[0;32m~/Desktop/Truco-RL/game.py\u001b[0m in \u001b[0;36m<module>\u001b[0;34m\u001b[0m\n\u001b[1;32m      5\u001b[0m \u001b[0;32mfrom\u001b[0m \u001b[0mactions\u001b[0m \u001b[0;32mimport\u001b[0m \u001b[0mgame_actions\u001b[0m\u001b[0;34m,\u001b[0m \u001b[0menvido_actions\u001b[0m\u001b[0;34m,\u001b[0m \u001b[0mtruco_actions\u001b[0m\u001b[0;34m,\u001b[0m \u001b[0mresponse_actions\u001b[0m\u001b[0;34m,\u001b[0m \u001b[0mplayable_cards\u001b[0m\u001b[0;34m\u001b[0m\u001b[0;34m\u001b[0m\u001b[0m\n\u001b[1;32m      6\u001b[0m \u001b[0;32mfrom\u001b[0m \u001b[0mtruco\u001b[0m \u001b[0;32mimport\u001b[0m \u001b[0mTruco\u001b[0m\u001b[0;34m\u001b[0m\u001b[0;34m\u001b[0m\u001b[0m\n\u001b[0;32m----> 7\u001b[0;31m \u001b[0;32mfrom\u001b[0m \u001b[0mcard_game\u001b[0m \u001b[0;32mimport\u001b[0m \u001b[0mCardGame\u001b[0m\u001b[0;34m\u001b[0m\u001b[0;34m\u001b[0m\u001b[0m\n\u001b[0m\u001b[1;32m      8\u001b[0m \u001b[0;34m\u001b[0m\u001b[0m\n\u001b[1;32m      9\u001b[0m \u001b[0;32mimport\u001b[0m \u001b[0mlogging\u001b[0m\u001b[0;34m\u001b[0m\u001b[0;34m\u001b[0m\u001b[0m\n",
      "\u001b[0;32m~/Desktop/Truco-RL/card_game.py\u001b[0m in \u001b[0;36m<module>\u001b[0;34m\u001b[0m\n\u001b[0;32m----> 1\u001b[0;31m \u001b[0;32mfrom\u001b[0m \u001b[0mmore_itertools\u001b[0m \u001b[0;32mimport\u001b[0m \u001b[0mlocate\u001b[0m\u001b[0;34m\u001b[0m\u001b[0;34m\u001b[0m\u001b[0m\n\u001b[0m\u001b[1;32m      2\u001b[0m \u001b[0;32mimport\u001b[0m \u001b[0mlogging\u001b[0m\u001b[0;34m\u001b[0m\u001b[0;34m\u001b[0m\u001b[0m\n\u001b[1;32m      3\u001b[0m \u001b[0;34m\u001b[0m\u001b[0m\n\u001b[1;32m      4\u001b[0m \u001b[0;32mclass\u001b[0m \u001b[0mCardGame\u001b[0m\u001b[0;34m:\u001b[0m\u001b[0;34m\u001b[0m\u001b[0;34m\u001b[0m\u001b[0m\n\u001b[1;32m      5\u001b[0m \u001b[0;34m\u001b[0m\u001b[0m\n",
      "\u001b[0;31mModuleNotFoundError\u001b[0m: No module named 'more_itertools'"
     ]
    }
   ],
   "source": [
    "from player import Player\n",
    "from dealer import Dealer\n",
    "from game import TrucoGame"
   ]
  },
  {
   "cell_type": "code",
   "execution_count": 8,
   "id": "reported-mountain",
   "metadata": {},
   "outputs": [
    {
     "ename": "NameError",
     "evalue": "name 'TrucoGame' is not defined",
     "output_type": "error",
     "traceback": [
      "\u001b[0;31m---------------------------------------------------------------------------\u001b[0m",
      "\u001b[0;31mNameError\u001b[0m                                 Traceback (most recent call last)",
      "\u001b[0;32m<ipython-input-8-7f22a6014d31>\u001b[0m in \u001b[0;36m<module>\u001b[0;34m\u001b[0m\n\u001b[1;32m      6\u001b[0m \u001b[0mdealer\u001b[0m\u001b[0;34m.\u001b[0m\u001b[0mdeal_cards_in_order\u001b[0m\u001b[0;34m(\u001b[0m\u001b[0mplayers\u001b[0m\u001b[0;34m)\u001b[0m\u001b[0;34m\u001b[0m\u001b[0;34m\u001b[0m\u001b[0m\n\u001b[1;32m      7\u001b[0m \u001b[0;34m\u001b[0m\u001b[0m\n\u001b[0;32m----> 8\u001b[0;31m \u001b[0mgame\u001b[0m \u001b[0;34m=\u001b[0m \u001b[0mTrucoGame\u001b[0m\u001b[0;34m(\u001b[0m\u001b[0mplayers\u001b[0m\u001b[0;34m)\u001b[0m\u001b[0;34m\u001b[0m\u001b[0;34m\u001b[0m\u001b[0m\n\u001b[0m\u001b[1;32m      9\u001b[0m \u001b[0;34m\u001b[0m\u001b[0m\n\u001b[1;32m     10\u001b[0m \u001b[0mp0\u001b[0m \u001b[0;34m=\u001b[0m \u001b[0mgame\u001b[0m\u001b[0;34m.\u001b[0m\u001b[0mplayers\u001b[0m\u001b[0;34m[\u001b[0m\u001b[0;36m0\u001b[0m\u001b[0;34m]\u001b[0m\u001b[0;34m\u001b[0m\u001b[0;34m\u001b[0m\u001b[0m\n",
      "\u001b[0;31mNameError\u001b[0m: name 'TrucoGame' is not defined"
     ]
    }
   ],
   "source": [
    "num_players = 2\n",
    "\n",
    "players = [Player(id) for id in range(num_players)]\n",
    "\n",
    "dealer = Dealer()\n",
    "dealer.deal_cards_in_order(players)\n",
    "\n",
    "game = TrucoGame(players)\n",
    "\n",
    "p0 = game.players[0]\n",
    "p1 = game.players[1]\n",
    "\n",
    "print(p0)\n",
    "print(p1)"
   ]
  },
  {
   "cell_type": "code",
   "execution_count": 223,
   "id": "loving-mandate",
   "metadata": {},
   "outputs": [
    {
     "name": "stderr",
     "output_type": "stream",
     "text": [
      "26-Sep-21 23:32:13 - INFO - Player 0 | Cards: ['E11'] played C4\n"
     ]
    }
   ],
   "source": [
    "game.take_action(p0, 'C4')"
   ]
  },
  {
   "cell_type": "code",
   "execution_count": 224,
   "id": "boolean-georgia",
   "metadata": {},
   "outputs": [
    {
     "name": "stderr",
     "output_type": "stream",
     "text": [
      "26-Sep-21 23:32:20 - INFO - Player 1 | Cards: ['B1'] played C5\n",
      "26-Sep-21 23:32:20 - DEBUG - Player 1 | Cards: ['B1'] was rewarded 1 for winning hand.\n",
      "26-Sep-21 23:32:20 - INFO - Hand finished.\n",
      "26-Sep-21 23:32:20 - INFO - Player 0 | Cards: ['E11'] scored 0\n",
      "26-Sep-21 23:32:20 - INFO - Player 1 | Cards: ['B1'] scored 1\n"
     ]
    }
   ],
   "source": [
    "game.take_action(p1, 'C5')"
   ]
  },
  {
   "cell_type": "code",
   "execution_count": 64,
   "id": "rolled-croatia",
   "metadata": {},
   "outputs": [
    {
     "ename": "SyntaxError",
     "evalue": "invalid syntax (<ipython-input-64-5a6e102a4a4f>, line 3)",
     "output_type": "error",
     "traceback": [
      "\u001b[1;36m  File \u001b[1;32m\"<ipython-input-64-5a6e102a4a4f>\"\u001b[1;36m, line \u001b[1;32m3\u001b[0m\n\u001b[1;33m    state =[1 if player = p else 0, ]\u001b[0m\n\u001b[1;37m                        ^\u001b[0m\n\u001b[1;31mSyntaxError\u001b[0m\u001b[1;31m:\u001b[0m invalid syntax\n"
     ]
    }
   ],
   "source": [
    "\n",
    "state = []\n",
    "for p, action in game.envido.envido_calls:\n",
    "    state =[1 if player = p else 0, ]"
   ]
  },
  {
   "cell_type": "code",
   "execution_count": 227,
   "id": "hungarian-continent",
   "metadata": {},
   "outputs": [],
   "source": [
    "def get_state(player, game):\n",
    "    player_cards = encode_card_array(player.hand)\n",
    "    \n",
    "    mano = 1 if player == game.get_mano() else 0\n",
    "    \n",
    "    cards_played = []\n",
    "    for p, c in game.card_game.cards_played:\n",
    "        p_id = 1 if player == p else 0\n",
    "        turn = [p_id, *encode_card_array(c)]\n",
    "        cards_played.append(np.array(turn, dtype=np.int8))\n",
    "    \n",
    "    # Add padding for 6 turns\n",
    "    for i in range(6 - len(cards_played)):\n",
    "        cards_played.append(np.zeros(1 + 40, dtype=np.int8))\n",
    "        \n",
    "    envido_state = []\n",
    "    for p, c in game.envido.envido_calls:\n",
    "        p_id = 1 if player == p else 0\n",
    "        turn = [p_id, *encode_envido(c)]\n",
    "        envido_state.append(np.array(turn, dtype=np.int8))\n",
    "    \n",
    "    # Add padding 3 calls\n",
    "    for i in range(3 - len(envido_state)):\n",
    "        envido_state.append(np.zeros(1 + 4, dtype=np.int8))\n",
    "        \n",
    "    truco_state = []\n",
    "    for p, c in game.truco.truco_calls:\n",
    "        p_id = 1 if player == p else 0\n",
    "        turn = [p_id, *encode_truco(c)]\n",
    "        truco_state.append(np.array(turn, dtype = np.int8))\n",
    "        \n",
    "    # Add padding 5 calls\n",
    "    for i in range(5 - len(truco_states)):\n",
    "        envido_state.append(np.zeros(1 + 5, dtype=np.int8))\n",
    "        \n",
    "    return truco_state\n",
    "    \n",
    "    "
   ]
  },
  {
   "cell_type": "code",
   "execution_count": 226,
   "id": "royal-triangle",
   "metadata": {},
   "outputs": [
    {
     "data": {
      "text/plain": [
       "[array([1, 0, 0, 0, 0, 0, 0, 0, 0, 0, 0, 0, 0, 0, 0, 0, 0, 0, 0, 0, 0, 0,\n",
       "        0, 0, 0, 0, 0, 0, 0, 0, 0, 0, 1, 0, 0, 0, 0, 0, 0, 0, 0],\n",
       "       dtype=int8),\n",
       " array([0, 0, 0, 0, 0, 0, 0, 0, 1, 0, 0, 0, 0, 0, 0, 0, 0, 0, 0, 0, 0, 0,\n",
       "        0, 0, 0, 0, 0, 0, 0, 0, 0, 0, 0, 0, 0, 0, 0, 0, 0, 0, 0],\n",
       "       dtype=int8),\n",
       " array([1, 0, 0, 0, 1, 0, 0, 0, 0, 0, 0, 0, 0, 0, 0, 0, 0, 0, 0, 0, 0, 0,\n",
       "        0, 0, 0, 0, 0, 0, 0, 0, 0, 0, 0, 0, 0, 0, 0, 0, 0, 0, 0],\n",
       "       dtype=int8),\n",
       " array([0, 0, 0, 0, 0, 1, 0, 0, 0, 0, 0, 0, 0, 0, 0, 0, 0, 0, 0, 0, 0, 0,\n",
       "        0, 0, 0, 0, 0, 0, 0, 0, 0, 0, 0, 0, 0, 0, 0, 0, 0, 0, 0],\n",
       "       dtype=int8),\n",
       " array([0, 0, 0, 0, 0, 0, 0, 0, 0, 0, 0, 0, 0, 0, 0, 0, 0, 0, 0, 0, 0, 0,\n",
       "        0, 0, 0, 0, 0, 0, 0, 0, 0, 0, 0, 0, 0, 0, 0, 0, 0, 0, 0],\n",
       "       dtype=int8),\n",
       " array([0, 0, 0, 0, 0, 0, 0, 0, 0, 0, 0, 0, 0, 0, 0, 0, 0, 0, 0, 0, 0, 0,\n",
       "        0, 0, 0, 0, 0, 0, 0, 0, 0, 0, 0, 0, 0, 0, 0, 0, 0, 0, 0],\n",
       "       dtype=int8)]"
      ]
     },
     "execution_count": 226,
     "metadata": {},
     "output_type": "execute_result"
    }
   ],
   "source": [
    "get_state(p0, game)"
   ]
  },
  {
   "cell_type": "code",
   "execution_count": null,
   "id": "greater-tonight",
   "metadata": {},
   "outputs": [],
   "source": [
    "def myTriplet(x):\n",
    "    return x + 1, x + 2, x + 3\n",
    "\n",
    "\n",
    "myTriplet(1)"
   ]
  }
 ],
 "metadata": {
  "interpreter": {
   "hash": "767d51c1340bd893661ea55ea3124f6de3c7a262a8b4abca0554b478b1e2ff90"
  },
  "kernelspec": {
   "display_name": "Python 3",
   "language": "python",
   "name": "python3"
  },
  "language_info": {
   "codemirror_mode": {
    "name": "ipython",
    "version": 3
   },
   "file_extension": ".py",
   "mimetype": "text/x-python",
   "name": "python",
   "nbconvert_exporter": "python",
   "pygments_lexer": "ipython3",
   "version": "3.9.1"
  }
 },
 "nbformat": 4,
 "nbformat_minor": 5
}
