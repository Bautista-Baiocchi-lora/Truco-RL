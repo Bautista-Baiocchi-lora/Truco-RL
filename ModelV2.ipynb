{
 "cells": [
  {
   "cell_type": "code",
   "execution_count": 1,
   "id": "likely-indonesian",
   "metadata": {},
   "outputs": [
    {
     "name": "stdout",
     "output_type": "stream",
     "text": [
      "Looking in links: https://download.pytorch.org/whl/torch_stable.html\n",
      "Requirement already satisfied: torch==1.9.1+cu111 in c:\\users\\bautista\\appdata\\local\\programs\\python\\python39\\lib\\site-packages (1.9.1+cu111)\n",
      "Requirement already satisfied: typing-extensions in c:\\users\\bautista\\appdata\\local\\programs\\python\\python39\\lib\\site-packages (from torch==1.9.1+cu111) (3.7.4.3)\n"
     ]
    },
    {
     "name": "stderr",
     "output_type": "stream",
     "text": [
      "WARNING: You are using pip version 21.0.1; however, version 21.2.4 is available.\n",
      "You should consider upgrading via the 'c:\\users\\bautista\\appdata\\local\\programs\\python\\python39\\python.exe -m pip install --upgrade pip' command.\n"
     ]
    }
   ],
   "source": [
    "# Install a pip package in the current Jupyter kernel\n",
    "import sys\n",
    "!{sys.executable} -m pip install torch==1.9.1+cu111 -f https://download.pytorch.org/whl/torch_stable.html"
   ]
  },
  {
   "cell_type": "code",
   "execution_count": 1,
   "id": "southwest-stereo",
   "metadata": {},
   "outputs": [],
   "source": [
    "from player import Player\n",
    "from dealer import Dealer\n",
    "from game import TrucoGame\n",
    "from actions import game_actions\n",
    "from environment import TrucoEnvironment\n",
    "from actions import game_actions, game_actions_list"
   ]
  },
  {
   "cell_type": "code",
   "execution_count": 2,
   "id": "indian-convergence",
   "metadata": {},
   "outputs": [],
   "source": [
    "num_players = 2\n",
    "\n",
    "players = [Player(id) for id in range(num_players)]\n",
    "\n",
    "p0 = players[0]\n",
    "p1 = players[1]\n",
    "\n",
    "env = TrucoEnvironment(players)"
   ]
  },
  {
   "cell_type": "code",
   "execution_count": 3,
   "id": "occupational-habitat",
   "metadata": {},
   "outputs": [],
   "source": [
    "import torch as T\n",
    "from torch import nn\n",
    "from collections import deque\n",
    "import itertools\n",
    "import numpy as np\n",
    "import random"
   ]
  },
  {
   "cell_type": "code",
   "execution_count": 4,
   "id": "signed-paste",
   "metadata": {},
   "outputs": [],
   "source": [
    "device = T.device(\"cuda:0\" if T.cuda.is_available() else \"cpu\")"
   ]
  },
  {
   "cell_type": "code",
   "execution_count": 5,
   "id": "awful-millennium",
   "metadata": {},
   "outputs": [],
   "source": [
    "class DQNetwork(nn.Module):\n",
    "    \n",
    "    def __init__(self, state_space_dim, action_space_dim):\n",
    "        super().__init__()\n",
    "        \n",
    "        self.net = nn.Sequential(\n",
    "            nn.Linear(state_space_dim, 256),\n",
    "            nn.Tanh(),\n",
    "            nn.Linear(256, 128),\n",
    "            nn.Tanh(),\n",
    "            nn.Linear(128, 64),\n",
    "            nn.Tanh(),\n",
    "            nn.Linear(64, action_space_dim)\n",
    "        )\n",
    "        \n",
    "    def forward(self, x):\n",
    "        return self.net(x)\n",
    "    \n",
    "    def act(self, game_state_t):\n",
    "        q_values = self(game_state_t.unsqueeze(0))\n",
    "        \n",
    "        return q_values.detach().squeeze()"
   ]
  },
  {
   "cell_type": "code",
   "execution_count": 6,
   "id": "higher-copyright",
   "metadata": {},
   "outputs": [],
   "source": [
    "class Agent:\n",
    "    def __init__(self, \n",
    "                 player, \n",
    "                 state_space_dim, \n",
    "                 action_space_dim, \n",
    "                 device, \n",
    "                 batch_size=32,\n",
    "                 target_update_freq=1000,\n",
    "                 min_replay_size=1000,\n",
    "                 learning_rate=5e-4, \n",
    "                 replay_buffer_size=50000, \n",
    "                 reward_buffer_size=100, \n",
    "                 epsilon_start=1.0, \n",
    "                 epsilon_end=0.02, \n",
    "                 epsilon_decay=10000,\n",
    "                 gamma=0.99\n",
    "                ):\n",
    "        \n",
    "        self.player = player\n",
    "        \n",
    "        # Initialize the NNs\n",
    "        self.online_net = DQNetwork(\n",
    "            state_space_dim, \n",
    "            action_space_dim\n",
    "        ).to(device)\n",
    "\n",
    "        self.target_net = DQNetwork(\n",
    "            state_space_dim, \n",
    "            action_space_dim\n",
    "        ).to(device)\n",
    "\n",
    "        # Initialize both with the same weight\n",
    "        self.target_net.load_state_dict(self.online_net.state_dict())\n",
    "\n",
    "        # Initialize optimizer with online_net \n",
    "        self.optimizer = T.optim.Adam(self.online_net.parameters(), lr=learning_rate)\n",
    "        \n",
    "        self.replay_buffer = deque(maxlen=replay_buffer_size)\n",
    "        self.min_replay_size = min_replay_size\n",
    "        \n",
    "        self.reward_buffer = deque([0.0], maxlen=reward_buffer_size)\n",
    "        \n",
    "        self.batch_size = batch_size\n",
    "        self.target_update_freq = target_update_freq\n",
    "        self.epsilon_start = epsilon_start\n",
    "        self.epsilon_end = epsilon_end\n",
    "        self.epsilon_decay = epsilon_decay\n",
    "        self.gamma = gamma"
   ]
  },
  {
   "cell_type": "code",
   "execution_count": 7,
   "id": "plain-clock",
   "metadata": {},
   "outputs": [],
   "source": [
    "agents = [Agent(player, env.state_space_dim, env.action_space_dim, device, batch_size=64, target_update_freq=1000) for player in players]"
   ]
  },
  {
   "cell_type": "code",
   "execution_count": 8,
   "id": "circular-taylor",
   "metadata": {},
   "outputs": [
    {
     "name": "stderr",
     "output_type": "stream",
     "text": [
      "04-Oct-21 16:06:26 - WARNING - Game ended with no winner.\n",
      "04-Oct-21 16:06:26 - WARNING - Game ended with no winner.\n"
     ]
    }
   ],
   "source": [
    "for agent in agents:\n",
    "\n",
    "    # reset env\n",
    "    starting_player, legal_actions, game_state = env.reset()\n",
    "\n",
    "    # Initialize the ReplayBuffer\n",
    "    while len(agent.replay_buffer) < agent.min_replay_size:\n",
    "        # pick legal action given uniform distribution\n",
    "        action = np.random.choice(legal_actions, 1, [1/len(legal_actions) for i in legal_actions])\n",
    "        action = game_actions_list.index(action)\n",
    "\n",
    "        # Take action, observer outcome\n",
    "        rew, done, next_player, next_legal_actions, new_game_state = env.step(starting_player, action)\n",
    "\n",
    "        #Save transition for training later\n",
    "        transition = (game_state, action, rew, done, new_game_state)\n",
    "        agent.replay_buffer.append(transition)\n",
    "\n",
    "        starting_player = next_player\n",
    "        legal_actions = next_legal_actions\n",
    "        game_state = new_game_state\n",
    "\n",
    "        if done:\n",
    "            starting_player, legal_actions, game_state = env.reset()"
   ]
  },
  {
   "cell_type": "code",
   "execution_count": 9,
   "id": "complimentary-comment",
   "metadata": {},
   "outputs": [
    {
     "name": "stderr",
     "output_type": "stream",
     "text": [
      "04-Oct-21 16:06:27 - WARNING - Game ended with no winner.\n"
     ]
    }
   ],
   "source": [
    "# reset env\n",
    "starting_player, legal_actions, game_state = env.reset()\n",
    "episode_reward = 0.0\n",
    "best_avg_reward = -10\n",
    "worst_avg_reward = 10"
   ]
  },
  {
   "cell_type": "code",
   "execution_count": null,
   "id": "polish-assembly",
   "metadata": {},
   "outputs": [
    {
     "name": "stdout",
     "output_type": "stream",
     "text": [
      "Step: 127000 | Player: 0 | Avg reward: -1.5 | Best reward: 0.0 | Worst reward: -1.92 | W/L: 0.5264119601328904 | Games: 12040   \r"
     ]
    }
   ],
   "source": [
    "\n",
    "\n",
    "# Main training loop\n",
    "for step in itertools.count():\n",
    "    agent = [agent for agent in agents if agent.player == starting_player][0]\n",
    "    # Linearly decrease epsilon \n",
    "    epsilon = np.interp(step, [0, agent.epsilon_decay], [agent.epsilon_start, agent.epsilon_end])\n",
    "    \n",
    "    use_random = random.random() <= epsilon\n",
    "    \n",
    "    action = None\n",
    "    if use_random:\n",
    "        # pick legal action given uniform distribution\n",
    "        action = np.random.choice(legal_actions, 1, [1/len(legal_actions) for i in legal_actions])\n",
    "        action = game_actions_list.index(action)\n",
    "    else: \n",
    "        # Compute Q-Values\n",
    "        game_state = T.as_tensor(game_state).to(device)\n",
    "        q_values = agent.online_net.act(game_state)\n",
    "        # Get index of best action\n",
    "        action = T.argmax(q_values, axis=0)\n",
    "        # Send game_state and action to cpu so we can save it into replay memory\n",
    "        game_state = game_state.cpu().data.numpy()\n",
    "        action = action.cpu().data.numpy()\n",
    "        \n",
    "    # Take action, observer outcome\n",
    "    rew, done, next_player, next_legal_actions, new_game_state = env.step(starting_player, action)\n",
    "    \n",
    "    #Save transition for training later\n",
    "    transition = (game_state, action, rew, done, new_game_state)\n",
    "    agent.replay_buffer.append(transition)\n",
    "    \n",
    "    starting_player = next_player\n",
    "    legal_actions = next_legal_actions\n",
    "    game_state = new_game_state\n",
    "    \n",
    "    episode_reward += rew\n",
    "    \n",
    "    if done:\n",
    "        starting_player, legal_actions, game_state = env.reset()\n",
    "        \n",
    "        agent.reward_buffer.append(episode_reward)\n",
    "        episode_reward = 0\n",
    "    \n",
    "    # Start Gradient Step\n",
    "    transitions = random.sample(agent.replay_buffer, agent.batch_size)\n",
    "    \n",
    "    all_obs = np.vstack([t[0] for t in transitions])\n",
    "    all_actions = np.asarray([t[1] for t in transitions], dtype=np.int64)\n",
    "    all_rews = np.asarray([t[2] for t in transitions], dtype=np.float32)\n",
    "    all_dones = np.asarray([t[3] for t in transitions], dtype=np.float32)\n",
    "    all_new_obs = np.vstack([t[4] for t in transitions])\n",
    "    \n",
    " \n",
    "    obs_t = T.as_tensor(all_obs).to(device)\n",
    "    actions_t = T.as_tensor(all_actions).unsqueeze(-1).to(device)\n",
    "    rews_t = T.as_tensor(all_rews).to(device)\n",
    "    new_obs_t = T.as_tensor(all_new_obs).to(device)\n",
    "    dones_t = T.as_tensor(all_dones).to(device)\n",
    "    \n",
    "    # Compute Targets\n",
    "    target_q_values = agent.target_net(new_obs_t)\n",
    "    max_target_q_values = target_q_values.max(dim=1, keepdim=True)[0]\n",
    "    \n",
    "    targets = rews_t + agent.gamma * (1 - dones_t) * max_target_q_values\n",
    "    \n",
    "    # Compute Loss\n",
    "    q_values = agent.online_net(obs_t)\n",
    "    \n",
    "    action_q_values = T.gather(input=q_values, dim=1, index=actions_t)\n",
    "    loss = nn.functional.smooth_l1_loss(action_q_values, max_target_q_values)\n",
    "\n",
    "    # Gradient Descent\n",
    "    agent.optimizer.zero_grad()\n",
    "    loss.backward()\n",
    "    agent.optimizer.step()\n",
    "    \n",
    "    \n",
    "    # Update Target Network\n",
    "    if step % agent.target_update_freq == 0:\n",
    "        agent.target_net.load_state_dict(agent.online_net.state_dict())\n",
    "        \n",
    "        # Logging\n",
    "        avg_reward = np.mean(agent.reward_buffer)\n",
    "        if avg_reward > best_avg_reward:\n",
    "            best_avg_reward = avg_reward\n",
    "        if avg_reward < worst_avg_reward:\n",
    "            worst_avg_reward = avg_reward\n",
    "        print(f\"Step: {step} | Player: {agent.player.get_id()} | Avg reward: {avg_reward} | Best reward: {best_avg_reward} | Worst reward: {worst_avg_reward} | W/L: {max([w if p == agent.player else 0 for p, w in env.games_won])/env.games_played} | Games: {env.games_played} \", end='\\r')\n",
    "           \n",
    "    "
   ]
  },
  {
   "cell_type": "code",
   "execution_count": 11,
   "id": "honey-dating",
   "metadata": {},
   "outputs": [
    {
     "data": {
      "text/plain": [
       "[(<player.Player at 0x28dfcffffd0>, 1105),\n",
       " (<player.Player at 0x28dfcfff850>, 1043)]"
      ]
     },
     "execution_count": 11,
     "metadata": {},
     "output_type": "execute_result"
    }
   ],
   "source": [
    "env.games_won"
   ]
  },
  {
   "cell_type": "code",
   "execution_count": null,
   "id": "helpful-italian",
   "metadata": {},
   "outputs": [],
   "source": []
  }
 ],
 "metadata": {
  "kernelspec": {
   "display_name": "Python 3",
   "language": "python",
   "name": "python3"
  },
  "language_info": {
   "codemirror_mode": {
    "name": "ipython",
    "version": 3
   },
   "file_extension": ".py",
   "mimetype": "text/x-python",
   "name": "python",
   "nbconvert_exporter": "python",
   "pygments_lexer": "ipython3",
   "version": "3.9.1"
  }
 },
 "nbformat": 4,
 "nbformat_minor": 5
}
