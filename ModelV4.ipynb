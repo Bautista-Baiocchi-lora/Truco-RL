{
 "cells": [
  {
   "cell_type": "code",
   "execution_count": 1,
   "id": "material-broadcasting",
   "metadata": {},
   "outputs": [],
   "source": [
    "import warnings\n",
    "warnings.simplefilter(action='ignore', category=FutureWarning)\n",
    "\n",
    "from player import Player\n",
    "from dealer import Dealer\n",
    "from game import TrucoGame\n",
    "from environment import TrucoEnvironment\n",
    "from actions import game_actions, game_actions_list\n",
    "from agent import Agent\n",
    "import random\n",
    "import itertools\n",
    "import torch as T\n",
    "import numpy as np"
   ]
  },
  {
   "cell_type": "code",
   "execution_count": 2,
   "id": "conscious-collapse",
   "metadata": {},
   "outputs": [],
   "source": [
    "device = T.device(\"cuda:0\" if T.cuda.is_available() else \"cpu\")"
   ]
  },
  {
   "cell_type": "code",
   "execution_count": 3,
   "id": "burning-beach",
   "metadata": {},
   "outputs": [
    {
     "data": {
      "text/plain": [
       "device(type='cuda', index=0)"
      ]
     },
     "execution_count": 3,
     "metadata": {},
     "output_type": "execute_result"
    }
   ],
   "source": [
    "device"
   ]
  },
  {
   "cell_type": "code",
   "execution_count": 4,
   "id": "smoking-aggregate",
   "metadata": {},
   "outputs": [],
   "source": [
    "num_players = 6\n",
    "\n",
    "players = [Player(id) for id in range(num_players)]\n",
    "\n",
    "agents = [Agent(player=player, state_space_dim=339, action_space_dim=game_actions.shape[0], device=device, batch_size=64, target_update_freq=1500, epsilon_end=0.05, epsilon_decay=1000000) for player in players]\n",
    "\n",
    "random.shuffle(agents)\n",
    "\n",
    "envs = [TrucoEnvironment([a1.player, a2.player]) for a1, a2 in zip(agents[0::2], agents[1::2])]"
   ]
  },
  {
   "cell_type": "code",
   "execution_count": 5,
   "id": "bulgarian-symphony",
   "metadata": {},
   "outputs": [],
   "source": [
    "def get_env_by_agent(envs, agent):\n",
    "    for env in envs:\n",
    "        if agent.player in env.players:\n",
    "            return env\n",
    "    return None\n",
    "\n",
    "def get_agents_by_env(agents, env):\n",
    "    playing = []\n",
    "    for agent in agents:\n",
    "        if agent.player in env.players:\n",
    "            playing.append(agent)\n",
    "    return playing[0], playing[1]"
   ]
  },
  {
   "cell_type": "code",
   "execution_count": 6,
   "id": "copyrighted-textbook",
   "metadata": {},
   "outputs": [
    {
     "name": "stderr",
     "output_type": "stream",
     "text": [
      "05-Oct-21 17:31:26 - WARNING - Game ended with no winner.\n",
      "05-Oct-21 17:31:26 - WARNING - Game ended with no winner.\n",
      "05-Oct-21 17:31:26 - WARNING - Game ended with no winner.\n",
      "05-Oct-21 17:31:26 - WARNING - Game ended with no winner.\n",
      "05-Oct-21 17:31:26 - WARNING - Game ended with no winner.\n",
      "05-Oct-21 17:31:27 - WARNING - Game ended with no winner.\n"
     ]
    }
   ],
   "source": [
    "for env in envs:\n",
    "    \n",
    "    playing_agents = get_agents_by_env(agents, env)\n",
    "    \n",
    "    for agent in playing_agents:\n",
    "\n",
    "        # reset env\n",
    "        starting_player, legal_actions, game_state = env.reset()\n",
    "\n",
    "        # Initialize the ReplayBuffer\n",
    "        while len(agent.replay_buffer) < agent.min_replay_size:\n",
    "            # pick legal action given uniform distribution\n",
    "            action = np.random.choice(legal_actions, 1, [1/len(legal_actions) for i in legal_actions])\n",
    "            action = game_actions_list.index(action)\n",
    "\n",
    "            # Take action, observer outcome\n",
    "            rew, done, next_player, next_legal_actions, new_game_state = env.step(starting_player, action)\n",
    "\n",
    "            #Save transition for training later\n",
    "            transition = (game_state, action, rew, done, new_game_state)\n",
    "            agent.save_transition(transition)\n",
    "\n",
    "            starting_player = next_player\n",
    "            legal_actions = next_legal_actions\n",
    "            game_state = new_game_state\n",
    "\n",
    "            if done:\n",
    "                starting_player, legal_actions, game_state = env.reset()"
   ]
  },
  {
   "cell_type": "code",
   "execution_count": 7,
   "id": "dated-minimum",
   "metadata": {},
   "outputs": [],
   "source": [
    "PLAYER_SWAP_FREQ=50000"
   ]
  },
  {
   "cell_type": "code",
   "execution_count": null,
   "id": "checked-token",
   "metadata": {},
   "outputs": [
    {
     "name": "stderr",
     "output_type": "stream",
     "text": [
      "05-Oct-21 17:31:27 - WARNING - Game ended with no winner.\n"
     ]
    },
    {
     "name": "stdout",
     "output_type": "stream",
     "text": [
      "Starting epoch: 0\n",
      "Step: 25000 | Player: 3 | Avg reward: 1.01 | W/L: 0.5226781857451404 | Games: 7408\n",
      "Step: 25000 | Player: 0 | Avg reward: 0.77 | W/L: 0.4773218142548596 | Games: 7408\n"
     ]
    },
    {
     "name": "stderr",
     "output_type": "stream",
     "text": [
      "05-Oct-21 17:33:36 - WARNING - Game ended with no winner.\n"
     ]
    },
    {
     "name": "stdout",
     "output_type": "stream",
     "text": [
      "Step: 50000 | Player: 3 | Avg reward: 1.22 | W/L: 0.5219945450730821 | Games: 14299\n",
      "Step: 50000 | Player: 0 | Avg reward: 0.85 | W/L: 0.478005454926918 | Games: 14299\n",
      "Player 3 vs Player 3 finished.\n",
      "Step: 25000 | Player: 4 | Avg reward: 0.95 | W/L: 0.5254965110037574 | Games: 7452\n",
      "Step: 25000 | Player: 2 | Avg reward: 1.07 | W/L: 0.4745034889962426 | Games: 7452\n"
     ]
    }
   ],
   "source": [
    "for epoch in itertools.count():\n",
    "    print(f\"Starting epoch: {epoch}\")\n",
    "    \n",
    "    for env in envs:\n",
    "\n",
    "        starting_player, legal_actions, game_state = env.reset()\n",
    "        playing_agents = get_agents_by_env(agents, env)\n",
    "\n",
    "        # Main training loop\n",
    "        for step in itertools.count():\n",
    "            agent = [agent for agent in playing_agents if agent.player == starting_player][0]\n",
    "\n",
    "            action = agent.choose_action(legal_actions, game_state)\n",
    "\n",
    "            # Take action, observe outcome\n",
    "            rew, done, next_player, next_legal_actions, new_game_state = env.step(agent.player, action)\n",
    "\n",
    "            #Save transition for training later\n",
    "            transition = (game_state, action, rew, done, new_game_state)\n",
    "            agent.save_transition(transition)\n",
    "\n",
    "            starting_player = next_player\n",
    "            legal_actions = next_legal_actions\n",
    "            game_state = new_game_state\n",
    "\n",
    "            if done:\n",
    "                # Give agents their episode reward\n",
    "                for agent in playing_agents:\n",
    "                    agent.save_reward(env.game.get_score(agent.player))\n",
    "\n",
    "                starting_player, legal_actions, game_state = env.reset()\n",
    "\n",
    "            # Learn from replay buffer\n",
    "            agent.learn()\n",
    "\n",
    "            if step % agent.save_freq == 0 and step > 0:\n",
    "                for agent in playing_agents:\n",
    "                    T.save(agent.online_net.state_dict(), f\"./model_saves/model-v4-{agent.player.get_id()}.pt\")\n",
    "                    print(f\"Model saved at step: {step} \\r\")\n",
    "\n",
    "\n",
    "            # Logging\n",
    "            if step % 25000 == 0 and step > 0:\n",
    "                for agent in playing_agents:\n",
    "                    avg_reward = np.mean(agent.reward_buffer)\n",
    "                    print(f\"Step: {step} | Player: {agent.player.get_id()} | Avg reward: {avg_reward} | W/L: {max([w if p == agent.player else 0 for p, w in env.games_won])/env.games_played} | Games: {env.games_played}\")   \n",
    "\n",
    "            # Break out of training loop when swap rate is reached\n",
    "            if step % PLAYER_SWAP_FREQ == 0 and step > 0:\n",
    "                print(f\"Player {playing_agents[0].player.get_id()} vs Player {playing_agents[1].player.get_id()} finished.\")\n",
    "                break;\n",
    "\n",
    "\n",
    "    # Clear GPU cache\n",
    "    T.cuda.empty_cache()\n",
    "                \n",
    "    # Destroy all envs\n",
    "    envs.clear()\n",
    "\n",
    "    random.shuffle(agents)\n",
    "\n",
    "    # Create new Envs\n",
    "    envs = [TrucoEnvironment([a1.player, a2.player]) for a1, a2 in zip(agents[0::2], agents[1::2])]\n",
    "    "
   ]
  },
  {
   "cell_type": "code",
   "execution_count": null,
   "id": "better-sailing",
   "metadata": {},
   "outputs": [],
   "source": []
  }
 ],
 "metadata": {
  "kernelspec": {
   "display_name": "Python 3",
   "language": "python",
   "name": "python3"
  },
  "language_info": {
   "codemirror_mode": {
    "name": "ipython",
    "version": 3
   },
   "file_extension": ".py",
   "mimetype": "text/x-python",
   "name": "python",
   "nbconvert_exporter": "python",
   "pygments_lexer": "ipython3",
   "version": "3.9.1"
  }
 },
 "nbformat": 4,
 "nbformat_minor": 5
}
