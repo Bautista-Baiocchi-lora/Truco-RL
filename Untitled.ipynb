{
 "cells": [
  {
   "cell_type": "code",
   "execution_count": 228,
   "id": "sacred-search",
   "metadata": {},
   "outputs": [],
   "source": [
    "\n",
    "from card import Card\n",
    "from deck import init_truco_deck\n",
    "from actions import envido_actions, response_actions, truco_actions\n",
    "import numpy as np\n",
    "\n",
    "default_deck = np.array([card.get_index() for card in init_truco_deck()])\n",
    "\n",
    "envido_actions = np.concatenate((envido_actions, response_actions))\n",
    "\n",
    "truco_actions = np.concatenate((truco_actions, response_actions))\n",
    "\n",
    "\n",
    "\n",
    "def encode_card_array(cards):\n",
    "    if not isinstance(cards, list):\n",
    "        cards = [cards]\n",
    "    cards = [str(c) for c in cards]\n",
    "    return  [1 if card in cards else 0 for card in default_deck]\n",
    "\n",
    "    \n",
    "def encode_envido(action):\n",
    "    return [1 if a == action else 0 for a in envido_actions]\n",
    "\n",
    "def encode_truco(action):\n",
    "    return [1 if a == action else 0 for a in truco_actions]\n",
    "    "
   ]
  },
  {
   "cell_type": "code",
   "execution_count": 229,
   "id": "similar-horizon",
   "metadata": {},
   "outputs": [
    {
     "data": {
      "text/plain": [
       "[1, 0, 0, 0, 0]"
      ]
     },
     "execution_count": 229,
     "metadata": {},
     "output_type": "execute_result"
    }
   ],
   "source": [
    "encode_truco('truco')"
   ]
  },
  {
   "cell_type": "code",
   "execution_count": null,
   "id": "domestic-davis",
   "metadata": {},
   "outputs": [],
   "source": [
    "c1 = ['C1', 'C2']\n",
    "c2 = p0.hand\n",
    "\n",
    "encode_card_array('C1')"
   ]
  },
  {
   "cell_type": "code",
   "execution_count": 120,
   "id": "committed-poetry",
   "metadata": {},
   "outputs": [],
   "source": [
    "from player import Player\n",
    "from dealer import Dealer\n",
    "from game import TrucoGame"
   ]
  },
  {
   "cell_type": "code",
   "execution_count": 217,
   "id": "english-transparency",
   "metadata": {},
   "outputs": [
    {
     "name": "stdout",
     "output_type": "stream",
     "text": [
      "Player 0 | Cards: ['O2', 'E11', 'C4']\n",
      "Player 1 | Cards: ['C10', 'C5', 'B1']\n"
     ]
    }
   ],
   "source": [
    "num_players = 2\n",
    "\n",
    "players = [Player(id) for id in range(num_players)]\n",
    "\n",
    "dealer = Dealer()\n",
    "dealer.deal_cards_in_order(players)\n",
    "\n",
    "game = TrucoGame(players)\n",
    "\n",
    "p0 = game.players[0]\n",
    "p1 = game.players[1]\n",
    "\n",
    "print(p0)\n",
    "print(p1)"
   ]
  },
  {
   "cell_type": "code",
   "execution_count": 223,
   "id": "faced-straight",
   "metadata": {},
   "outputs": [
    {
     "name": "stderr",
     "output_type": "stream",
     "text": [
      "26-Sep-21 23:32:13 - INFO - Player 0 | Cards: ['E11'] played C4\n"
     ]
    }
   ],
   "source": [
    "game.take_action(p0, 'C4')"
   ]
  },
  {
   "cell_type": "code",
   "execution_count": 224,
   "id": "likely-convention",
   "metadata": {},
   "outputs": [
    {
     "name": "stderr",
     "output_type": "stream",
     "text": [
      "26-Sep-21 23:32:20 - INFO - Player 1 | Cards: ['B1'] played C5\n",
      "26-Sep-21 23:32:20 - DEBUG - Player 1 | Cards: ['B1'] was rewarded 1 for winning hand.\n",
      "26-Sep-21 23:32:20 - INFO - Hand finished.\n",
      "26-Sep-21 23:32:20 - INFO - Player 0 | Cards: ['E11'] scored 0\n",
      "26-Sep-21 23:32:20 - INFO - Player 1 | Cards: ['B1'] scored 1\n"
     ]
    }
   ],
   "source": [
    "game.take_action(p1, 'C5')"
   ]
  },
  {
   "cell_type": "code",
   "execution_count": 64,
   "id": "continental-madonna",
   "metadata": {},
   "outputs": [
    {
     "ename": "SyntaxError",
     "evalue": "invalid syntax (<ipython-input-64-5a6e102a4a4f>, line 3)",
     "output_type": "error",
     "traceback": [
      "\u001b[1;36m  File \u001b[1;32m\"<ipython-input-64-5a6e102a4a4f>\"\u001b[1;36m, line \u001b[1;32m3\u001b[0m\n\u001b[1;33m    state =[1 if player = p else 0, ]\u001b[0m\n\u001b[1;37m                        ^\u001b[0m\n\u001b[1;31mSyntaxError\u001b[0m\u001b[1;31m:\u001b[0m invalid syntax\n"
     ]
    }
   ],
   "source": [
    "\n",
    "state = []\n",
    "for p, action in game.envido.envido_calls:\n",
    "    state =[1 if player = p else 0, ]"
   ]
  },
  {
   "cell_type": "code",
   "execution_count": 227,
   "id": "impressive-smith",
   "metadata": {},
   "outputs": [],
   "source": [
    "def get_state(player, game):\n",
    "    player_cards = encode_card_array(player.hand)\n",
    "    \n",
    "    mano = 1 if player == game.get_mano() else 0\n",
    "    \n",
    "    cards_played = []\n",
    "    for p, c in game.card_game.cards_played:\n",
    "        p_id = 1 if player == p else 0\n",
    "        turn = [p_id, *encode_card_array(c)]\n",
    "        cards_played.append(np.array(turn, dtype=np.int8))\n",
    "    \n",
    "    # Add padding for 6 turns\n",
    "    for i in range(6 - len(cards_played)):\n",
    "        cards_played.append(np.zeros(1 + 40, dtype=np.int8))\n",
    "        \n",
    "    envido_state = []\n",
    "    for p, c in game.envido.envido_calls:\n",
    "        p_id = 1 if player == p else 0\n",
    "        turn = [p_id, *encode_envido(c)]\n",
    "        envido_state.append(np.array(turn, dtype=np.int8))\n",
    "    \n",
    "    # Add padding 3 calls\n",
    "    for i in range(3 - len(envido_state)):\n",
    "        envido_state.append(np.zeros(1 + 4, dtype=np.int8))\n",
    "        \n",
    "    truco_state = []\n",
    "    for p, c in game.truco.truco_calls:\n",
    "        p_id = 1 if player == p else 0\n",
    "        turn = [p_id, *encode_truco(c)]\n",
    "        truco_state.append(np.array(turn, dtype = np.int8))\n",
    "        \n",
    "    # Add padding 5 calls\n",
    "    for i in range(5 - len(truco_states)):\n",
    "        envido_state.append(np.zeros(1 + 5, dtype=np.int8))\n",
    "        \n",
    "    return truco_state\n",
    "    \n",
    "    "
   ]
  },
  {
   "cell_type": "code",
   "execution_count": 226,
   "id": "religious-gothic",
   "metadata": {},
   "outputs": [
    {
     "data": {
      "text/plain": [
       "[array([1, 0, 0, 0, 0, 0, 0, 0, 0, 0, 0, 0, 0, 0, 0, 0, 0, 0, 0, 0, 0, 0,\n",
       "        0, 0, 0, 0, 0, 0, 0, 0, 0, 0, 1, 0, 0, 0, 0, 0, 0, 0, 0],\n",
       "       dtype=int8),\n",
       " array([0, 0, 0, 0, 0, 0, 0, 0, 1, 0, 0, 0, 0, 0, 0, 0, 0, 0, 0, 0, 0, 0,\n",
       "        0, 0, 0, 0, 0, 0, 0, 0, 0, 0, 0, 0, 0, 0, 0, 0, 0, 0, 0],\n",
       "       dtype=int8),\n",
       " array([1, 0, 0, 0, 1, 0, 0, 0, 0, 0, 0, 0, 0, 0, 0, 0, 0, 0, 0, 0, 0, 0,\n",
       "        0, 0, 0, 0, 0, 0, 0, 0, 0, 0, 0, 0, 0, 0, 0, 0, 0, 0, 0],\n",
       "       dtype=int8),\n",
       " array([0, 0, 0, 0, 0, 1, 0, 0, 0, 0, 0, 0, 0, 0, 0, 0, 0, 0, 0, 0, 0, 0,\n",
       "        0, 0, 0, 0, 0, 0, 0, 0, 0, 0, 0, 0, 0, 0, 0, 0, 0, 0, 0],\n",
       "       dtype=int8),\n",
       " array([0, 0, 0, 0, 0, 0, 0, 0, 0, 0, 0, 0, 0, 0, 0, 0, 0, 0, 0, 0, 0, 0,\n",
       "        0, 0, 0, 0, 0, 0, 0, 0, 0, 0, 0, 0, 0, 0, 0, 0, 0, 0, 0],\n",
       "       dtype=int8),\n",
       " array([0, 0, 0, 0, 0, 0, 0, 0, 0, 0, 0, 0, 0, 0, 0, 0, 0, 0, 0, 0, 0, 0,\n",
       "        0, 0, 0, 0, 0, 0, 0, 0, 0, 0, 0, 0, 0, 0, 0, 0, 0, 0, 0],\n",
       "       dtype=int8)]"
      ]
     },
     "execution_count": 226,
     "metadata": {},
     "output_type": "execute_result"
    }
   ],
   "source": [
    "get_state(p0, game)"
   ]
  },
  {
   "cell_type": "code",
   "execution_count": null,
   "id": "skilled-indian",
   "metadata": {},
   "outputs": [],
   "source": []
  }
 ],
 "metadata": {
  "kernelspec": {
   "display_name": "Python 3",
   "language": "python",
   "name": "python3"
  },
  "language_info": {
   "codemirror_mode": {
    "name": "ipython",
    "version": 3
   },
   "file_extension": ".py",
   "mimetype": "text/x-python",
   "name": "python",
   "nbconvert_exporter": "python",
   "pygments_lexer": "ipython3",
   "version": "3.9.1"
  }
 },
 "nbformat": 4,
 "nbformat_minor": 5
}
