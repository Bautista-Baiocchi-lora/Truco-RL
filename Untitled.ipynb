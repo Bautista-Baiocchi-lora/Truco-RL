{
 "cells": [
  {
   "cell_type": "code",
   "execution_count": 1,
   "id": "cheap-custody",
   "metadata": {},
   "outputs": [],
   "source": [
    "import numpy as np\n",
    "\n",
    "\n",
    "class RandomAgent(object):\n",
    "    ''' A random agent. Random agents is for running toy examples on the card games\n",
    "    '''\n",
    "\n",
    "    def __init__(self, num_actions):\n",
    "        ''' Initilize the random agent\n",
    "\n",
    "        Args:\n",
    "            num_actions (int): The size of the ouput action space\n",
    "        '''\n",
    "        self.use_raw = False\n",
    "        self.num_actions = num_actions\n",
    "\n",
    "    @staticmethod\n",
    "    def step(state):\n",
    "        ''' Predict the action given the curent state in gerenerating training data.\n",
    "\n",
    "        Args:\n",
    "            state (dict): An dictionary that represents the current state\n",
    "\n",
    "        Returns:\n",
    "            action (int): The action predicted (randomly chosen) by the random agent\n",
    "        '''\n",
    "        return np.random.choice(list(state['legal_actions'].keys()))\n",
    "\n",
    "    def eval_step(self, state):\n",
    "        ''' Predict the action given the current state for evaluation.\n",
    "            Since the random agents are not trained. This function is equivalent to step function\n",
    "\n",
    "        Args:\n",
    "            state (dict): An dictionary that represents the current state\n",
    "\n",
    "        Returns:\n",
    "            action (int): The action predicted (randomly chosen) by the random agent\n",
    "            probs (list): The list of action probabilities\n",
    "        '''\n",
    "        probs = [0 for _ in range(self.num_actions)]\n",
    "        for i in state['legal_actions']:\n",
    "            probs[i] = 1/len(state['legal_actions'])\n",
    "\n",
    "        info = {}\n",
    "        info['probs'] = {state['raw_legal_actions'][i]: probs[list(state['legal_actions'].keys())[i]] for i in range(len(state['legal_actions']))}\n",
    "\n",
    "        return self.step(state), info"
   ]
  },
  {
   "cell_type": "code",
   "execution_count": null,
   "id": "ancient-design",
   "metadata": {},
   "outputs": [],
   "source": []
  }
 ],
 "metadata": {
  "kernelspec": {
   "display_name": "Python 3",
   "language": "python",
   "name": "python3"
  },
  "language_info": {
   "codemirror_mode": {
    "name": "ipython",
    "version": 3
   },
   "file_extension": ".py",
   "mimetype": "text/x-python",
   "name": "python",
   "nbconvert_exporter": "python",
   "pygments_lexer": "ipython3",
   "version": "3.9.1"
  }
 },
 "nbformat": 4,
 "nbformat_minor": 5
}
