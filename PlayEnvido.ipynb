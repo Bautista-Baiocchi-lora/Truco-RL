{
 "cells": [
  {
   "cell_type": "code",
   "execution_count": 1,
   "id": "hollywood-fiction",
   "metadata": {},
   "outputs": [],
   "source": [
    "from player import Player\n",
    "from dealer import Dealer\n",
    "from game import TrucoGame"
   ]
  },
  {
   "cell_type": "code",
   "execution_count": 2,
   "id": "liberal-destruction",
   "metadata": {},
   "outputs": [
    {
     "name": "stdout",
     "output_type": "stream",
     "text": [
      "Player 0 | Cards: ['O12', 'O3', 'B7']\n",
      "Player 1 | Cards: ['E11', 'E1', 'C4']\n"
     ]
    }
   ],
   "source": [
    "num_players = 2\n",
    "\n",
    "players = [Player(id) for id in range(num_players)]\n",
    "\n",
    "game = TrucoGame(players)\n",
    "\n",
    "p0 = game.players[0]\n",
    "p1 = game.players[1]\n",
    "\n",
    "print(p0)\n",
    "print(p1)"
   ]
  },
  {
   "cell_type": "code",
   "execution_count": 3,
   "id": "bearing-chuck",
   "metadata": {},
   "outputs": [
    {
     "name": "stderr",
     "output_type": "stream",
     "text": [
      "03-Oct-21 20:30:55 - INFO - Player 0 | Cards: ['O12', 'O3', 'B7'] called envido.\n"
     ]
    }
   ],
   "source": [
    "game.take_action(p0, 'envido')"
   ]
  },
  {
   "cell_type": "code",
   "execution_count": 4,
   "id": "living-hunter",
   "metadata": {},
   "outputs": [
    {
     "name": "stderr",
     "output_type": "stream",
     "text": [
      "03-Oct-21 20:30:55 - INFO - Player 1 | Cards: ['E11', 'E1', 'C4'] called quiero envido\n",
      "03-Oct-21 20:30:55 - DEBUG - Player 0 | Cards: ['O12', 'O3', 'B7'] has an envido of 23\n",
      "03-Oct-21 20:30:55 - DEBUG - Player 1 | Cards: ['E11', 'E1', 'C4'] has an envido of 21\n",
      "03-Oct-21 20:30:55 - DEBUG - Player 0 | Cards: ['O12', 'O3', 'B7'] was rewarded 2 for winning envido.\n"
     ]
    }
   ],
   "source": [
    "game.take_action(p1, 'quiero')"
   ]
  },
  {
   "cell_type": "code",
   "execution_count": null,
   "id": "blocked-dialogue",
   "metadata": {},
   "outputs": [],
   "source": [
    "game.take_action(p1, 'envido')"
   ]
  },
  {
   "cell_type": "code",
   "execution_count": 4,
   "id": "aggressive-serum",
   "metadata": {},
   "outputs": [
    {
     "name": "stderr",
     "output_type": "stream",
     "text": [
      "03-Oct-21 20:28:39 - INFO - Player 1 | Cards: ['B1', 'O1', 'C2'] called no quiero envido\n",
      "03-Oct-21 20:28:39 - DEBUG - Player 0 | Cards: ['E6', 'O12', 'C7'] was rewarded 1 for winning envido.\n"
     ]
    }
   ],
   "source": [
    "game.take_action(p1, 'no quiero')"
   ]
  },
  {
   "cell_type": "code",
   "execution_count": null,
   "id": "recovered-deficit",
   "metadata": {},
   "outputs": [],
   "source": [
    "game.take_action(p1, 'quiero')"
   ]
  },
  {
   "cell_type": "code",
   "execution_count": null,
   "id": "appointed-trouble",
   "metadata": {},
   "outputs": [],
   "source": []
  }
 ],
 "metadata": {
  "kernelspec": {
   "display_name": "Python 3",
   "language": "python",
   "name": "python3"
  },
  "language_info": {
   "codemirror_mode": {
    "name": "ipython",
    "version": 3
   },
   "file_extension": ".py",
   "mimetype": "text/x-python",
   "name": "python",
   "nbconvert_exporter": "python",
   "pygments_lexer": "ipython3",
   "version": "3.9.1"
  }
 },
 "nbformat": 4,
 "nbformat_minor": 5
}
