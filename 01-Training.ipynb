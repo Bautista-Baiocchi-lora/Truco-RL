{
 "cells": [
  {
   "cell_type": "code",
   "execution_count": null,
   "id": "adolescent-printer",
   "metadata": {},
   "outputs": [],
   "source": [
    "from player import Player\n",
    "from dealer import Dealer\n",
    "from game import TrucoGame\n",
    "from environment import TrucoEnvironment\n",
    "from agent import Agent, save_agent, load_agent\n",
    "from actions import game_actions, game_actions_list\n",
    "import random\n",
    "import itertools\n",
    "import torch as T\n",
    "import numpy as np\n",
    "import logging"
   ]
  },
  {
   "cell_type": "code",
   "execution_count": null,
   "id": "prepared-imperial",
   "metadata": {},
   "outputs": [],
   "source": [
    "device = T.device(\"cuda:0\" if T.cuda.is_available() else \"cpu\")"
   ]
  },
  {
   "cell_type": "code",
   "execution_count": null,
   "id": "absent-prince",
   "metadata": {},
   "outputs": [],
   "source": [
    "names = ['Fede', 'Angie', 'Rafa', 'Sophie']\n",
    "\n",
    "#agents = [Agent(player=Player(names[i]), state_space_dim=339, action_space_dim=game_actions.shape[0],model_type='shallow', device=device, replay_buffer_size=25000, batch_size=48, target_update_freq=1500, epsilon_end=0.05, epsilon_decay=1500000, learning_rate=0.0005) for i in range(len(names))]\n",
    "agents = [load_agent(name, device) for name in names]\n",
    "\n",
    "\n",
    "random.shuffle(agents)\n",
    "\n",
    "envs = [TrucoEnvironment([a1.player, a2.player], logging_level=logging.WARNING) for a1, a2 in zip(agents[0::2], agents[1::2])]"
   ]
  },
  {
   "cell_type": "code",
   "execution_count": null,
   "id": "specific-margin",
   "metadata": {},
   "outputs": [],
   "source": [
    "def get_env_by_agent(envs, agent):\n",
    "    for env in envs:\n",
    "        if agent.player in env.players:\n",
    "            return env\n",
    "    return None\n",
    "\n",
    "def get_agents_by_env(agents, env):\n",
    "    playing = []\n",
    "    for agent in agents:\n",
    "        if agent.player in env.players:\n",
    "            playing.append(agent)\n",
    "    return playing[0], playing[1]"
   ]
  },
  {
   "cell_type": "code",
   "execution_count": null,
   "id": "protective-regard",
   "metadata": {},
   "outputs": [],
   "source": [
    "for env in envs:\n",
    "    \n",
    "    playing_agents = get_agents_by_env(agents, env)\n",
    "    \n",
    "    for agent in playing_agents:\n",
    "\n",
    "        # reset env\n",
    "        starting_player, legal_actions, game_state = env.reset(False)\n",
    "\n",
    "        # Initialize the ReplayBuffer\n",
    "        while len(agent.replay_buffer) < agent.min_replay_size:\n",
    "            # pick legal action given uniform distribution\n",
    "            action = np.random.choice(legal_actions, 1, [1/len(legal_actions) for i in legal_actions])\n",
    "            action = game_actions_list.index(action)\n",
    "\n",
    "            # Take action, observer outcome\n",
    "            rew, done, next_player, next_legal_actions, new_game_state = env.step(starting_player, action)\n",
    "\n",
    "            #Save transition for training later\n",
    "            transition = (game_state, action, rew, done, new_game_state)\n",
    "            agent.save_transition(transition)\n",
    "\n",
    "            starting_player = next_player\n",
    "            legal_actions = next_legal_actions\n",
    "            game_state = new_game_state\n",
    "\n",
    "            if done:\n",
    "                starting_player, legal_actions, game_state = env.reset()"
   ]
  },
  {
   "cell_type": "code",
   "execution_count": null,
   "id": "above-research",
   "metadata": {},
   "outputs": [],
   "source": [
    "PLAYER_SWAP_FREQ=35000"
   ]
  },
  {
   "cell_type": "code",
   "execution_count": 8,
   "id": "focal-joining",
   "metadata": {},
   "outputs": [
    {
     "name": "stdout",
     "output_type": "stream",
     "text": [
      "Step: 15000 | Player: Angie | Avg reward: 1.08 | W/L: 0.4827586206896552 | Games: 203 | Time: 0:00:45.104245\n",
      "Step: 15000 | Player: Sophie | Avg reward: 0.98 | W/L: 0.5172413793103449 | Games: 203 | Time: 0:00:45.104396\n",
      "Step: 30000 | Player: Angie | Avg reward: 0.93 | W/L: 0.5160493827160494 | Games: 405 | Time: 0:01:30.700322\n",
      "Step: 30000 | Player: Sophie | Avg reward: 1.03 | W/L: 0.4839506172839506 | Games: 405 | Time: 0:01:30.700480\n",
      "Player Angie vs Player Sophie finished.\n",
      "Epoch 325 finished in 0:03:31.463216\n",
      "Starting epoch: 326\n",
      "Step: 15000 | Player: Fede | Avg reward: 0.96 | W/L: 0.4869109947643979 | Games: 191 | Time: 0:00:45.297079\n",
      "Step: 15000 | Player: Angie | Avg reward: 1.13 | W/L: 0.5130890052356021 | Games: 191 | Time: 0:00:45.297236\n",
      "Step: 30000 | Player: Fede | Avg reward: 1.15 | W/L: 0.5139240506329114 | Games: 395 | Time: 0:01:28.290112\n",
      "Step: 30000 | Player: Angie | Avg reward: 0.96 | W/L: 0.4860759493670886 | Games: 395 | Time: 0:01:28.290270\n",
      "Player Fede vs Player Angie finished.\n",
      "Step: 15000 | Player: Sophie | Avg reward: 1.12 | W/L: 0.5161290322580645 | Games: 217 | Time: 0:00:35.626574\n",
      "Step: 15000 | Player: Rafa | Avg reward: 0.86 | W/L: 0.4838709677419355 | Games: 217 | Time: 0:00:35.626772\n",
      "Step: 30000 | Player: Sophie | Avg reward: 1.01 | W/L: 0.5320197044334976 | Games: 406 | Time: 0:01:09.912638\n",
      "Step: 30000 | Player: Rafa | Avg reward: 1.07 | W/L: 0.46798029556650245 | Games: 406 | Time: 0:01:09.912814\n",
      "Player Sophie vs Player Rafa finished.\n",
      "Agent Angie saved. \n",
      "Agent Sophie saved. \n",
      "Agent Rafa saved. \n",
      "Agent Fede saved. \n",
      "Epoch 326 finished in 0:03:01.539832\n",
      "Starting epoch: 327\n",
      "Step: 15000 | Player: Angie | Avg reward: 1.23 | W/L: 0.5454545454545454 | Games: 198 | Time: 0:00:35.975560\n",
      "Step: 15000 | Player: Sophie | Avg reward: 0.84 | W/L: 0.45454545454545453 | Games: 198 | Time: 0:00:35.975752\n",
      "Step: 30000 | Player: Angie | Avg reward: 0.91 | W/L: 0.5378787878787878 | Games: 396 | Time: 0:01:10.843267\n",
      "Step: 30000 | Player: Sophie | Avg reward: 0.94 | W/L: 0.4621212121212121 | Games: 396 | Time: 0:01:10.843485\n",
      "Player Angie vs Player Sophie finished.\n",
      "Step: 15000 | Player: Rafa | Avg reward: 0.92 | W/L: 0.5023696682464455 | Games: 211 | Time: 0:00:42.273863\n",
      "Step: 15000 | Player: Fede | Avg reward: 1.22 | W/L: 0.4976303317535545 | Games: 211 | Time: 0:00:42.274195\n"
     ]
    },
    {
     "ename": "KeyboardInterrupt",
     "evalue": "",
     "output_type": "error",
     "traceback": [
      "\u001b[1;31m---------------------------------------------------------------------------\u001b[0m",
      "\u001b[1;31mKeyboardInterrupt\u001b[0m                         Traceback (most recent call last)",
      "\u001b[1;32m<ipython-input-8-f532c03900b5>\u001b[0m in \u001b[0;36m<module>\u001b[1;34m\u001b[0m\n\u001b[0;32m     20\u001b[0m             \u001b[0magent\u001b[0m \u001b[1;33m=\u001b[0m \u001b[1;33m[\u001b[0m\u001b[0magent\u001b[0m \u001b[1;32mfor\u001b[0m \u001b[0magent\u001b[0m \u001b[1;32min\u001b[0m \u001b[0mplaying_agents\u001b[0m \u001b[1;32mif\u001b[0m \u001b[0magent\u001b[0m\u001b[1;33m.\u001b[0m\u001b[0mplayer\u001b[0m \u001b[1;33m==\u001b[0m \u001b[0mstarting_player\u001b[0m\u001b[1;33m]\u001b[0m\u001b[1;33m[\u001b[0m\u001b[1;36m0\u001b[0m\u001b[1;33m]\u001b[0m\u001b[1;33m\u001b[0m\u001b[1;33m\u001b[0m\u001b[0m\n\u001b[0;32m     21\u001b[0m \u001b[1;33m\u001b[0m\u001b[0m\n\u001b[1;32m---> 22\u001b[1;33m             \u001b[0maction\u001b[0m \u001b[1;33m=\u001b[0m \u001b[0magent\u001b[0m\u001b[1;33m.\u001b[0m\u001b[0mchoose_action\u001b[0m\u001b[1;33m(\u001b[0m\u001b[0mlegal_actions\u001b[0m\u001b[1;33m,\u001b[0m \u001b[0mgame_state\u001b[0m\u001b[1;33m)\u001b[0m\u001b[1;33m\u001b[0m\u001b[1;33m\u001b[0m\u001b[0m\n\u001b[0m\u001b[0;32m     23\u001b[0m \u001b[1;33m\u001b[0m\u001b[0m\n\u001b[0;32m     24\u001b[0m             \u001b[1;31m# Take action, observe outcome\u001b[0m\u001b[1;33m\u001b[0m\u001b[1;33m\u001b[0m\u001b[1;33m\u001b[0m\u001b[0m\n",
      "\u001b[1;32m~\\Desktop\\Truco-RL\\agent.py\u001b[0m in \u001b[0;36mchoose_action\u001b[1;34m(self, legal_actions, game_state)\u001b[0m\n\u001b[0;32m    249\u001b[0m             \u001b[1;31m# Copy game state so we dont have to send it back to cpu after compute\u001b[0m\u001b[1;33m\u001b[0m\u001b[1;33m\u001b[0m\u001b[1;33m\u001b[0m\u001b[0m\n\u001b[0;32m    250\u001b[0m             \u001b[0mgame_state_copy\u001b[0m \u001b[1;33m=\u001b[0m \u001b[0mgame_state\u001b[0m\u001b[1;33m.\u001b[0m\u001b[0mcopy\u001b[0m\u001b[1;33m(\u001b[0m\u001b[1;33m)\u001b[0m\u001b[1;33m\u001b[0m\u001b[1;33m\u001b[0m\u001b[0m\n\u001b[1;32m--> 251\u001b[1;33m             \u001b[0mgame_state_copy\u001b[0m \u001b[1;33m=\u001b[0m \u001b[0mT\u001b[0m\u001b[1;33m.\u001b[0m\u001b[0mas_tensor\u001b[0m\u001b[1;33m(\u001b[0m\u001b[0mgame_state_copy\u001b[0m\u001b[1;33m)\u001b[0m\u001b[1;33m.\u001b[0m\u001b[0mto\u001b[0m\u001b[1;33m(\u001b[0m\u001b[0mself\u001b[0m\u001b[1;33m.\u001b[0m\u001b[0mdevice\u001b[0m\u001b[1;33m)\u001b[0m\u001b[1;33m\u001b[0m\u001b[1;33m\u001b[0m\u001b[0m\n\u001b[0m\u001b[0;32m    252\u001b[0m             \u001b[0mq_values\u001b[0m \u001b[1;33m=\u001b[0m \u001b[0mself\u001b[0m\u001b[1;33m.\u001b[0m\u001b[0monline_net\u001b[0m\u001b[1;33m.\u001b[0m\u001b[0mact\u001b[0m\u001b[1;33m(\u001b[0m\u001b[0mgame_state_copy\u001b[0m\u001b[1;33m)\u001b[0m\u001b[1;33m\u001b[0m\u001b[1;33m\u001b[0m\u001b[0m\n\u001b[0;32m    253\u001b[0m             \u001b[1;31m# Get index of best action\u001b[0m\u001b[1;33m\u001b[0m\u001b[1;33m\u001b[0m\u001b[1;33m\u001b[0m\u001b[0m\n",
      "\u001b[1;31mKeyboardInterrupt\u001b[0m: "
     ]
    }
   ],
   "source": [
    "import warnings\n",
    "warnings.simplefilter(action='ignore', category=FutureWarning)\n",
    "\n",
    "from timeit import default_timer as timer\n",
    "import datetime\n",
    "\n",
    "for epoch in itertools.count():\n",
    "    print(f\"Starting epoch: {epoch}\")\n",
    "    epoch_start = timer()\n",
    "    \n",
    "    for env in envs:\n",
    "        \n",
    "        env_start = timer()\n",
    "\n",
    "        starting_player, legal_actions, game_state = env.reset(False)\n",
    "        playing_agents = get_agents_by_env(agents, env)\n",
    "\n",
    "        # Main training loop\n",
    "        for step in itertools.count():\n",
    "            agent = [agent for agent in playing_agents if agent.player == starting_player][0]\n",
    "\n",
    "            action = agent.choose_action(legal_actions, game_state)\n",
    "\n",
    "            # Take action, observe outcome\n",
    "            rew, done, next_player, next_legal_actions, new_game_state = env.step(agent.player, action)\n",
    "\n",
    "            #Save transition for training later\n",
    "            transition = (game_state, action, rew, done, new_game_state)\n",
    "            agent.save_transition(transition)\n",
    "\n",
    "            starting_player = next_player\n",
    "            legal_actions = next_legal_actions\n",
    "            game_state = new_game_state\n",
    "\n",
    "            if done:\n",
    "                # Give agents their episode reward\n",
    "                for agent in playing_agents:\n",
    "                    agent.save_reward(env.game.get_score(agent.player))\n",
    "\n",
    "                starting_player, legal_actions, game_state = env.reset(False)\n",
    "\n",
    "            # Learn from replay buffer\n",
    "            agent.learn()\n",
    "\n",
    "            # Logging\n",
    "            if step % 15000 == 0 and step > 0:\n",
    "                for agent in playing_agents:\n",
    "                    avg_reward = np.mean(agent.reward_buffer)\n",
    "                    print(f\"Step: {step} | Player: {agent.player.get_id()} | Avg reward: {avg_reward} | W/L: {max([w if p == agent.player else 0 for p, w in env.games_won])/env.games_played} | Games: {env.games_played} | Time: {str(datetime.timedelta(seconds=(timer() - env_start)))}\")   \n",
    "\n",
    "            # Break out of training loop when swap rate is reached\n",
    "            if step % PLAYER_SWAP_FREQ == 0 and step > 0:\n",
    "                print(f\"Player {playing_agents[0].player.get_id()} vs Player {playing_agents[1].player.get_id()} finished.\")\n",
    "                \n",
    "                # Clear GPU cache\n",
    "                T.cuda.empty_cache()\n",
    "                break;\n",
    "\n",
    "    \n",
    "                \n",
    "    # Destroy all envs\n",
    "    envs.clear()\n",
    "\n",
    "    random.shuffle(agents)\n",
    "\n",
    "    # Create new Envs\n",
    "    envs = [TrucoEnvironment([a1.player, a2.player]) for a1, a2 in zip(agents[0::2], agents[1::2])]\n",
    "    \n",
    "    # Save models\n",
    "    if epoch % 2 == 0 and epoch > 0:\n",
    "        for agent in agents:\n",
    "            save_agent(agent)\n",
    "    \n",
    "    print(f\"Epoch {epoch} finished in {str(datetime.timedelta(seconds=(timer() - epoch_start)))}\")\n",
    "    "
   ]
  },
  {
   "cell_type": "code",
   "execution_count": null,
   "id": "grateful-provision",
   "metadata": {},
   "outputs": [],
   "source": [
    "for agent in agents:\n",
    "    save_agent(agent)"
   ]
  },
  {
   "cell_type": "code",
   "execution_count": 9,
   "id": "confused-dragon",
   "metadata": {},
   "outputs": [
    {
     "name": "stdout",
     "output_type": "stream",
     "text": [
      "\n",
      "{'model_type': 'shallow', 'action_space_dim': 48, 'state_space_dim': 339, 'save_freq': 200000, 'batch_size': 48, 'target_update_freq': 1500, 'min_replay_size': 1000, 'learning_rate': 0.0005, 'replay_buffer_size': 25000, 'reward_buffer_size': 100, 'epsilon_start': 1.0, 'epsilon_end': 0.05, 'epsilon_decay': 1500000, 'gamma': 0.99, 'step': 5757726}\n",
      "\n",
      "{'model_type': 'shallow', 'action_space_dim': 48, 'state_space_dim': 339, 'save_freq': 200000, 'batch_size': 48, 'target_update_freq': 1500, 'min_replay_size': 1000, 'learning_rate': 0.0005, 'replay_buffer_size': 25000, 'reward_buffer_size': 100, 'epsilon_start': 1.0, 'epsilon_end': 0.05, 'epsilon_decay': 1500000, 'gamma': 0.99, 'step': 5730169}\n",
      "\n",
      "{'model_type': 'shallow', 'action_space_dim': 48, 'state_space_dim': 339, 'save_freq': 200000, 'batch_size': 48, 'target_update_freq': 1500, 'min_replay_size': 1000, 'learning_rate': 0.0005, 'replay_buffer_size': 25000, 'reward_buffer_size': 100, 'epsilon_start': 1.0, 'epsilon_end': 0.05, 'epsilon_decay': 1500000, 'gamma': 0.99, 'step': 5727649}\n",
      "\n",
      "{'model_type': 'shallow', 'action_space_dim': 48, 'state_space_dim': 339, 'save_freq': 200000, 'batch_size': 48, 'target_update_freq': 1500, 'min_replay_size': 1000, 'learning_rate': 0.0005, 'replay_buffer_size': 25000, 'reward_buffer_size': 100, 'epsilon_start': 1.0, 'epsilon_end': 0.05, 'epsilon_decay': 1500000, 'gamma': 0.99, 'step': 5727305}\n"
     ]
    }
   ],
   "source": [
    "for agent in agents:\n",
    "    print()\n",
    "    print(agent.get_config())"
   ]
  },
  {
   "cell_type": "code",
   "execution_count": null,
   "id": "framed-skiing",
   "metadata": {},
   "outputs": [],
   "source": []
  }
 ],
 "metadata": {
  "kernelspec": {
   "display_name": "Python 3",
   "language": "python",
   "name": "python3"
  },
  "language_info": {
   "codemirror_mode": {
    "name": "ipython",
    "version": 3
   },
   "file_extension": ".py",
   "mimetype": "text/x-python",
   "name": "python",
   "nbconvert_exporter": "python",
   "pygments_lexer": "ipython3",
   "version": "3.9.1"
  }
 },
 "nbformat": 4,
 "nbformat_minor": 5
}
