{
 "cells": [
  {
   "cell_type": "code",
   "execution_count": null,
   "id": "organized-tucson",
   "metadata": {},
   "outputs": [],
   "source": [
    "from player import Player\n",
    "from dealer import Dealer\n",
    "from game import TrucoGame\n",
    "from environment import TrucoEnvironment\n",
    "from agent import Agent, save_agent, load_agent\n",
    "from actions import game_actions, game_actions_list\n",
    "import random\n",
    "import itertools\n",
    "import torch as T\n",
    "import numpy as np\n",
    "import logging"
   ]
  },
  {
   "cell_type": "code",
   "execution_count": null,
   "id": "induced-newcastle",
   "metadata": {},
   "outputs": [],
   "source": [
    "device = T.device(\"cuda:0\" if T.cuda.is_available() else \"cpu\")"
   ]
  },
  {
   "cell_type": "code",
   "execution_count": null,
   "id": "killing-douglas",
   "metadata": {},
   "outputs": [],
   "source": [
    "names = ['Cat', 'Dog', 'Bird', 'Snake']\n",
    "\n",
    "agents = [Agent(player=Player(names[i]), state_space_dim=339, action_space_dim=game_actions.shape[0],model_type='shallow', device=device, replay_buffer_size=25000, batch_size=48, target_update_freq=1500, epsilon_end=0.05, epsilon_decay=1000000, learning_rate=0.0005) for i in range(len(names))]\n",
    "#agents = [load_agent(name, device) for name in load_names]\n",
    "\n",
    "\n",
    "random.shuffle(agents)\n",
    "\n",
    "envs = [TrucoEnvironment([a1.player, a2.player], logging_level=logging.WARNING) for a1, a2 in zip(agents[0::2], agents[1::2])]"
   ]
  },
  {
   "cell_type": "code",
   "execution_count": null,
   "id": "rubber-dependence",
   "metadata": {},
   "outputs": [],
   "source": [
    "def get_env_by_agent(envs, agent):\n",
    "    for env in envs:\n",
    "        if agent.player in env.players:\n",
    "            return env\n",
    "    return None\n",
    "\n",
    "def get_agents_by_env(agents, env):\n",
    "    playing = []\n",
    "    for agent in agents:\n",
    "        if agent.player in env.players:\n",
    "            playing.append(agent)\n",
    "    return playing[0], playing[1]"
   ]
  },
  {
   "cell_type": "code",
   "execution_count": null,
   "id": "confidential-ontario",
   "metadata": {},
   "outputs": [],
   "source": [
    "for env in envs:\n",
    "    \n",
    "    playing_agents = get_agents_by_env(agents, env)\n",
    "    \n",
    "    for agent in playing_agents:\n",
    "\n",
    "        # reset env\n",
    "        starting_player, legal_actions, game_state = env.reset(False)\n",
    "\n",
    "        # Initialize the ReplayBuffer\n",
    "        while len(agent.replay_buffer) < agent.min_replay_size:\n",
    "            # pick legal action given uniform distribution\n",
    "            action = np.random.choice(legal_actions, 1, [1/len(legal_actions) for i in legal_actions])\n",
    "            action = game_actions_list.index(action)\n",
    "\n",
    "            # Take action, observer outcome\n",
    "            rew, done, next_player, next_legal_actions, new_game_state = env.step(starting_player, action)\n",
    "\n",
    "            #Save transition for training later\n",
    "            transition = (game_state, action, rew, done, new_game_state)\n",
    "            agent.save_transition(transition)\n",
    "\n",
    "            starting_player = next_player\n",
    "            legal_actions = next_legal_actions\n",
    "            game_state = new_game_state\n",
    "\n",
    "            if done:\n",
    "                starting_player, legal_actions, game_state = env.reset()"
   ]
  },
  {
   "cell_type": "code",
   "execution_count": null,
   "id": "sustainable-partnership",
   "metadata": {},
   "outputs": [],
   "source": [
    "PLAYER_SWAP_FREQ=35000"
   ]
  },
  {
   "cell_type": "code",
   "execution_count": null,
   "id": "heated-whale",
   "metadata": {},
   "outputs": [
    {
     "name": "stdout",
     "output_type": "stream",
     "text": [
      "Step: 15000 | Player: Cat | Avg reward: 1.1 | W/L: 0.5328546562228025 | Games: 4596 | Time: 0:00:31.252998\n",
      "Step: 15000 | Player: Snake | Avg reward: 1.01 | W/L: 0.4671453437771976 | Games: 4596 | Time: 0:00:31.253166\n",
      "Step: 30000 | Player: Cat | Avg reward: 1.22 | W/L: 0.5293775450843514 | Games: 8595 | Time: 0:01:03.830356\n",
      "Step: 30000 | Player: Snake | Avg reward: 0.92 | W/L: 0.47062245491564864 | Games: 8595 | Time: 0:01:03.830520\n",
      "Player Cat vs Player Snake finished.\n",
      "Step: 15000 | Player: Dog | Avg reward: 1.18 | W/L: 0.5253426147487492 | Games: 4597 | Time: 0:00:31.232489\n",
      "Step: 15000 | Player: Bird | Avg reward: 0.95 | W/L: 0.47465738525125084 | Games: 4597 | Time: 0:00:31.232669\n",
      "Step: 30000 | Player: Dog | Avg reward: 1.14 | W/L: 0.5230301613280337 | Games: 8554 | Time: 0:01:02.600212\n",
      "Step: 30000 | Player: Bird | Avg reward: 0.95 | W/L: 0.47696983867196635 | Games: 8554 | Time: 0:01:02.600334\n",
      "Player Dog vs Player Bird finished.\n",
      "Epoch 0 finished in 0:02:28.169885\n",
      "Starting epoch: 1\n",
      "Step: 15000 | Player: Snake | Avg reward: 1.04 | W/L: 0.5308580030105369 | Games: 3986 | Time: 0:00:32.115055\n",
      "Step: 15000 | Player: Dog | Avg reward: 1.03 | W/L: 0.46914199698946313 | Games: 3986 | Time: 0:00:32.115176\n",
      "Step: 30000 | Player: Snake | Avg reward: 1.08 | W/L: 0.5231987929083365 | Games: 7953 | Time: 0:01:04.895106\n",
      "Step: 30000 | Player: Dog | Avg reward: 1.11 | W/L: 0.4768012070916635 | Games: 7953 | Time: 0:01:04.895222\n",
      "Player Snake vs Player Dog finished.\n",
      "Step: 15000 | Player: Bird | Avg reward: 1.02 | W/L: 0.5187165775401069 | Games: 3927 | Time: 0:00:32.263995\n",
      "Step: 15000 | Player: Cat | Avg reward: 1.03 | W/L: 0.48128342245989303 | Games: 3927 | Time: 0:00:32.264165\n",
      "Step: 30000 | Player: Bird | Avg reward: 0.95 | W/L: 0.5155318879168251 | Games: 7887 | Time: 0:01:12.638766\n",
      "Step: 30000 | Player: Cat | Avg reward: 0.91 | W/L: 0.48446811208317486 | Games: 7887 | Time: 0:01:12.638938\n",
      "Player Bird vs Player Cat finished.\n",
      "Epoch 1 finished in 0:02:42.082681\n",
      "Starting epoch: 2\n"
     ]
    }
   ],
   "source": [
    "import warnings\n",
    "warnings.simplefilter(action='ignore', category=FutureWarning)\n",
    "\n",
    "from timeit import default_timer as timer\n",
    "import datetime\n",
    "\n",
    "for epoch in itertools.count():\n",
    "    print(f\"Starting epoch: {epoch}\")\n",
    "    epoch_start = timer()\n",
    "    \n",
    "    for env in envs:\n",
    "        \n",
    "        env_start = timer()\n",
    "\n",
    "        starting_player, legal_actions, game_state = env.reset(False)\n",
    "        playing_agents = get_agents_by_env(agents, env)\n",
    "\n",
    "        # Main training loop\n",
    "        for step in itertools.count():\n",
    "            agent = [agent for agent in playing_agents if agent.player == starting_player][0]\n",
    "\n",
    "            action = agent.choose_action(legal_actions, game_state)\n",
    "\n",
    "            # Take action, observe outcome\n",
    "            rew, done, next_player, next_legal_actions, new_game_state = env.step(agent.player, action)\n",
    "\n",
    "            #Save transition for training later\n",
    "            transition = (game_state, action, rew, done, new_game_state)\n",
    "            agent.save_transition(transition)\n",
    "\n",
    "            starting_player = next_player\n",
    "            legal_actions = next_legal_actions\n",
    "            game_state = new_game_state\n",
    "\n",
    "            if done:\n",
    "                # Give agents their episode reward\n",
    "                for agent in playing_agents:\n",
    "                    agent.save_reward(env.game.get_score(agent.player))\n",
    "\n",
    "                starting_player, legal_actions, game_state = env.reset(False)\n",
    "\n",
    "            # Learn from replay buffer\n",
    "            agent.learn()\n",
    "\n",
    "            # Logging\n",
    "            if step % 15000 == 0 and step > 0:\n",
    "                for agent in playing_agents:\n",
    "                    avg_reward = np.mean(agent.reward_buffer)\n",
    "                    print(f\"Step: {step} | Player: {agent.player.get_id()} | Avg reward: {avg_reward} | W/L: {max([w if p == agent.player else 0 for p, w in env.games_won])/env.games_played} | Games: {env.games_played} | Time: {str(datetime.timedelta(seconds=(timer() - env_start)))}\")   \n",
    "\n",
    "            # Break out of training loop when swap rate is reached\n",
    "            if step % PLAYER_SWAP_FREQ == 0 and step > 0:\n",
    "                print(f\"Player {playing_agents[0].player.get_id()} vs Player {playing_agents[1].player.get_id()} finished.\")\n",
    "                \n",
    "                # Clear GPU cache\n",
    "                T.cuda.empty_cache()\n",
    "                break;\n",
    "\n",
    "    \n",
    "                \n",
    "    # Destroy all envs\n",
    "    envs.clear()\n",
    "\n",
    "    random.shuffle(agents)\n",
    "\n",
    "    # Create new Envs\n",
    "    envs = [TrucoEnvironment([a1.player, a2.player]) for a1, a2 in zip(agents[0::2], agents[1::2])]\n",
    "    \n",
    "    # Save models\n",
    "    if epoch % 2 == 0 and epoch > 0:\n",
    "        for agent in agents:\n",
    "            save_agent(agent)\n",
    "    \n",
    "    print(f\"Epoch {epoch} finished in {str(datetime.timedelta(seconds=(timer() - epoch_start)))}\")\n",
    "    "
   ]
  },
  {
   "cell_type": "code",
   "execution_count": null,
   "id": "external-least",
   "metadata": {},
   "outputs": [],
   "source": [
    "for agent in agents:\n",
    "    save_agent(agent)"
   ]
  },
  {
   "cell_type": "code",
   "execution_count": null,
   "id": "undefined-donna",
   "metadata": {},
   "outputs": [],
   "source": [
    "for agent in agents:\n",
    "    print()\n",
    "    print(agent.get_config())"
   ]
  },
  {
   "cell_type": "code",
   "execution_count": null,
   "id": "forbidden-tower",
   "metadata": {},
   "outputs": [],
   "source": []
  }
 ],
 "metadata": {
  "kernelspec": {
   "display_name": "Python 3",
   "language": "python",
   "name": "python3"
  },
  "language_info": {
   "codemirror_mode": {
    "name": "ipython",
    "version": 3
   },
   "file_extension": ".py",
   "mimetype": "text/x-python",
   "name": "python",
   "nbconvert_exporter": "python",
   "pygments_lexer": "ipython3",
   "version": "3.9.1"
  }
 },
 "nbformat": 4,
 "nbformat_minor": 5
}
