{
 "cells": [
  {
   "cell_type": "code",
   "execution_count": 7,
   "id": "needed-trick",
   "metadata": {},
   "outputs": [],
   "source": [
    "from player import Player\n",
    "from dealer import Dealer\n",
    "from game import TrucoGame"
   ]
  },
  {
   "cell_type": "code",
   "execution_count": 8,
   "id": "coupled-karma",
   "metadata": {},
   "outputs": [
    {
     "name": "stdout",
     "output_type": "stream",
     "text": [
      "Player 0 | Cards: ['C7', 'C6', 'E11']\n",
      "Player 1 | Cards: ['O6', 'E6', 'B12']\n"
     ]
    }
   ],
   "source": [
    "num_players = 2\n",
    "\n",
    "players = [Player(id) for id in range(num_players)]\n",
    "\n",
    "dealer = Dealer()\n",
    "dealer.deal_cards_in_order(players)\n",
    "\n",
    "game = TrucoGame(players)\n",
    "\n",
    "p0 = game.players[0]\n",
    "p1 = game.players[1]\n",
    "\n",
    "print(p0)\n",
    "print(p1)"
   ]
  },
  {
   "cell_type": "code",
   "execution_count": 12,
   "id": "metallic-mauritius",
   "metadata": {},
   "outputs": [
    {
     "name": "stderr",
     "output_type": "stream",
     "text": [
      "21-Sep-21 11:05:30 - INFO - Player 0 | Cards: ['E11'] played C7\n"
     ]
    }
   ],
   "source": [
    "game.take_action(p0, 'C7')"
   ]
  },
  {
   "cell_type": "code",
   "execution_count": null,
   "id": "beautiful-possession",
   "metadata": {},
   "outputs": [],
   "source": [
    "game.take_action(p1, 'envido')"
   ]
  },
  {
   "cell_type": "code",
   "execution_count": null,
   "id": "micro-lightweight",
   "metadata": {},
   "outputs": [],
   "source": [
    "game.take_action(p0, 'envido')"
   ]
  },
  {
   "cell_type": "code",
   "execution_count": null,
   "id": "metallic-exhibition",
   "metadata": {},
   "outputs": [],
   "source": [
    "game.take_action(p1, 'quiero')"
   ]
  },
  {
   "cell_type": "code",
   "execution_count": 13,
   "id": "authorized-sullivan",
   "metadata": {},
   "outputs": [
    {
     "name": "stderr",
     "output_type": "stream",
     "text": [
      "21-Sep-21 11:05:43 - INFO - Player 1 | Cards: ['E6'] played B12\n",
      "21-Sep-21 11:05:43 - DEBUG - Round finished\n"
     ]
    }
   ],
   "source": [
    "game.take_action(p1, 'B12')"
   ]
  },
  {
   "cell_type": "code",
   "execution_count": null,
   "id": "latest-dress",
   "metadata": {},
   "outputs": [],
   "source": [
    "game.take_action(p1, 'truco')"
   ]
  },
  {
   "cell_type": "code",
   "execution_count": null,
   "id": "blank-absence",
   "metadata": {},
   "outputs": [],
   "source": [
    "game.take_action(p0, 'fold')"
   ]
  },
  {
   "cell_type": "code",
   "execution_count": null,
   "id": "large-wallet",
   "metadata": {},
   "outputs": [],
   "source": [
    "game.take_action(p0, 'E11')"
   ]
  }
 ],
 "metadata": {
  "kernelspec": {
   "display_name": "Python 3",
   "language": "python",
   "name": "python3"
  },
  "language_info": {
   "codemirror_mode": {
    "name": "ipython",
    "version": 3
   },
   "file_extension": ".py",
   "mimetype": "text/x-python",
   "name": "python",
   "nbconvert_exporter": "python",
   "pygments_lexer": "ipython3",
   "version": "3.9.1"
  }
 },
 "nbformat": 4,
 "nbformat_minor": 5
}
