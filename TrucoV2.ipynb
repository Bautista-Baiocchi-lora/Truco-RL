{
 "cells": [
  {
   "cell_type": "code",
   "execution_count": 1,
   "source": [
    "from player import Player\r\n",
    "from dealer import Dealer\r\n",
    "from game import TrucoGame"
   ],
   "outputs": [],
   "metadata": {}
  },
  {
   "cell_type": "code",
   "execution_count": 8,
   "source": [
    "num_players = 2\r\n",
    "\r\n",
    "players = [Player(id) for id in range(num_players)]\r\n",
    "\r\n",
    "dealer = Dealer()\r\n",
    "dealer.deal_cards_in_order(players)\r\n",
    "\r\n",
    "game = TrucoGame(players)\r\n",
    "\r\n",
    "p0 = game.players[0]\r\n",
    "p1 = game.players[1]\r\n",
    "\r\n",
    "print(p0)\r\n",
    "print(p1)"
   ],
   "outputs": [
    {
     "output_type": "stream",
     "name": "stdout",
     "text": [
      "Player 0 | Cards: ['E2', 'B10', 'C7']\n",
      "Player 1 | Cards: ['O5', 'C6', 'B5']\n"
     ]
    }
   ],
   "metadata": {}
  },
  {
   "cell_type": "code",
   "execution_count": 9,
   "source": [
    "game.take_action(p0, 'E2')"
   ],
   "outputs": [
    {
     "output_type": "stream",
     "name": "stderr",
     "text": [
      "21-Sep-21 18:55:04 - INFO - Player 0 | Cards: ['B10', 'C7'] played E2\n"
     ]
    }
   ],
   "metadata": {}
  },
  {
   "cell_type": "code",
   "execution_count": 10,
   "source": [
    "game.take_action(p1, 'envido')"
   ],
   "outputs": [
    {
     "output_type": "stream",
     "name": "stderr",
     "text": [
      "21-Sep-21 18:55:14 - INFO - Player 1 | Cards: ['O5', 'C6', 'B5'] called envido.\n"
     ]
    }
   ],
   "metadata": {}
  },
  {
   "cell_type": "code",
   "execution_count": 11,
   "source": [
    "game.take_action(p0, 'quiero')"
   ],
   "outputs": [
    {
     "output_type": "stream",
     "name": "stderr",
     "text": [
      "21-Sep-21 18:55:18 - INFO - Player 0 | Cards: ['B10', 'C7'] called quiero envido\n",
      "21-Sep-21 18:55:18 - DEBUG - Player 0 | Cards: ['B10', 'C7'] has an envido of 7\n",
      "21-Sep-21 18:55:18 - DEBUG - Player 1 | Cards: ['O5', 'C6', 'B5'] has an envido of 6\n",
      "21-Sep-21 18:55:18 - DEBUG - Player 0 | Cards: ['B10', 'C7'] was rewarded 2 for winning envido.\n"
     ]
    }
   ],
   "metadata": {}
  },
  {
   "cell_type": "code",
   "execution_count": 5,
   "source": [
    "game.take_action(p1, 'quiero')"
   ],
   "outputs": [
    {
     "output_type": "stream",
     "name": "stderr",
     "text": [
      "21-Sep-21 18:53:41 - WARNING - Player 1 | Cards: ['E10', 'C4', 'O12'] can't call quiero right now.\n"
     ]
    }
   ],
   "metadata": {}
  },
  {
   "cell_type": "code",
   "execution_count": null,
   "source": [
    "game.take_action(p1, 'B7')"
   ],
   "outputs": [],
   "metadata": {}
  },
  {
   "cell_type": "code",
   "execution_count": null,
   "source": [
    "game.take_action(p1, 'truco')"
   ],
   "outputs": [],
   "metadata": {}
  },
  {
   "cell_type": "code",
   "execution_count": null,
   "source": [
    "game.take_action(p0, 'fold')"
   ],
   "outputs": [],
   "metadata": {}
  },
  {
   "cell_type": "code",
   "execution_count": null,
   "source": [
    "game.take_action(p0, 'E11')"
   ],
   "outputs": [],
   "metadata": {}
  }
 ],
 "metadata": {
  "kernelspec": {
   "name": "python3",
   "display_name": "Python 3.9.1 64-bit"
  },
  "language_info": {
   "codemirror_mode": {
    "name": "ipython",
    "version": 3
   },
   "file_extension": ".py",
   "mimetype": "text/x-python",
   "name": "python",
   "nbconvert_exporter": "python",
   "pygments_lexer": "ipython3",
   "version": "3.9.1"
  },
  "interpreter": {
   "hash": "4ec81e3063e9841f4fd33b228f9b15acb3165ee35d4a5a8c1e63f7b8fb05311e"
  }
 },
 "nbformat": 4,
 "nbformat_minor": 5
}