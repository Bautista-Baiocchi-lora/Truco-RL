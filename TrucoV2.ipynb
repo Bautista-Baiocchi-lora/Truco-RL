{
 "cells": [
  {
   "cell_type": "code",
   "execution_count": 1,
   "id": "union-poetry",
   "metadata": {},
   "outputs": [],
   "source": [
    "from player import Player\r\n",
    "from dealer import Dealer\r\n",
    "from game import TrucoGame"
   ]
  },
  {
   "cell_type": "code",
   "execution_count": 2,
   "id": "trained-nickel",
   "metadata": {},
   "outputs": [
    {
     "name": "stdout",
     "output_type": "stream",
     "text": [
      "Player 0 | Cards: ['O3', 'C2', 'E6', 'O6', 'B3', 'E5']\n",
      "Player 1 | Cards: ['O1', 'O12', 'C1', 'E2', 'B1', 'C7']\n"
     ]
    }
   ],
   "source": [
    "num_players = 2\r\n",
    "\r\n",
    "players = [Player(id) for id in range(num_players)]\r\n",
    "\r\n",
    "dealer = Dealer()\r\n",
    "dealer.deal_cards_in_order(players)\r\n",
    "\r\n",
    "game = TrucoGame(players)\r\n",
    "\r\n",
    "p0 = game.players[0]\r\n",
    "p1 = game.players[1]\r\n",
    "\r\n",
    "print(p0)\r\n",
    "print(p1)"
   ]
  },
  {
   "cell_type": "code",
   "execution_count": 3,
   "id": "occasional-python",
   "metadata": {},
   "outputs": [
    {
     "name": "stderr",
     "output_type": "stream",
     "text": [
      "30-Sep-21 13:42:27 - INFO - Player 0 | Cards: ['O3', 'C2', 'E6', 'O6', 'B3', 'E5'] folded.\n",
      "30-Sep-21 13:42:27 - DEBUG - Player 1 | Cards: ['O1', 'O12', 'C1', 'E2', 'B1', 'C7'] was rewarded 1 for winning hand.\n",
      "30-Sep-21 13:42:27 - INFO - Hand finished.\n",
      "30-Sep-21 13:42:27 - INFO - Player 0 | Cards: ['O3', 'C2', 'E6', 'O6', 'B3', 'E5'] scored 0\n",
      "30-Sep-21 13:42:27 - INFO - Player 1 | Cards: ['O1', 'O12', 'C1', 'E2', 'B1', 'C7'] scored 1\n"
     ]
    }
   ],
   "source": [
    "game.take_action(p0, 'fold')"
   ]
  },
  {
   "cell_type": "code",
   "execution_count": 10,
   "id": "promotional-newsletter",
   "metadata": {},
   "outputs": [
    {
     "name": "stderr",
     "output_type": "stream",
     "text": [
      "21-Sep-21 18:55:14 - INFO - Player 1 | Cards: ['O5', 'C6', 'B5'] called envido.\n"
     ]
    }
   ],
   "source": [
    "game.take_action(p1, 'envido')"
   ]
  },
  {
   "cell_type": "code",
   "execution_count": 11,
   "id": "configured-gates",
   "metadata": {},
   "outputs": [
    {
     "name": "stderr",
     "output_type": "stream",
     "text": [
      "21-Sep-21 18:55:18 - INFO - Player 0 | Cards: ['B10', 'C7'] called quiero envido\n",
      "21-Sep-21 18:55:18 - DEBUG - Player 0 | Cards: ['B10', 'C7'] has an envido of 7\n",
      "21-Sep-21 18:55:18 - DEBUG - Player 1 | Cards: ['O5', 'C6', 'B5'] has an envido of 6\n",
      "21-Sep-21 18:55:18 - DEBUG - Player 0 | Cards: ['B10', 'C7'] was rewarded 2 for winning envido.\n"
     ]
    }
   ],
   "source": [
    "game.take_action(p0, 'quiero')"
   ]
  },
  {
   "cell_type": "code",
   "execution_count": 5,
   "id": "fifty-struggle",
   "metadata": {},
   "outputs": [
    {
     "name": "stderr",
     "output_type": "stream",
     "text": [
      "21-Sep-21 18:53:41 - WARNING - Player 1 | Cards: ['E10', 'C4', 'O12'] can't call quiero right now.\n"
     ]
    }
   ],
   "source": [
    "game.take_action(p1, 'quiero')"
   ]
  },
  {
   "cell_type": "code",
   "execution_count": null,
   "id": "upset-stereo",
   "metadata": {},
   "outputs": [],
   "source": [
    "game.take_action(p1, 'B7')"
   ]
  },
  {
   "cell_type": "code",
   "execution_count": null,
   "id": "driven-stroke",
   "metadata": {},
   "outputs": [],
   "source": [
    "game.take_action(p1, 'truco')"
   ]
  },
  {
   "cell_type": "code",
   "execution_count": null,
   "id": "phantom-reason",
   "metadata": {},
   "outputs": [],
   "source": [
    "game.take_action(p0, 'fold')"
   ]
  },
  {
   "cell_type": "code",
   "execution_count": null,
   "id": "italic-franklin",
   "metadata": {},
   "outputs": [],
   "source": [
    "game.take_action(p0, 'E11')"
   ]
  }
 ],
 "metadata": {
  "interpreter": {
   "hash": "4ec81e3063e9841f4fd33b228f9b15acb3165ee35d4a5a8c1e63f7b8fb05311e"
  },
  "kernelspec": {
   "display_name": "Python 3",
   "language": "python",
   "name": "python3"
  },
  "language_info": {
   "codemirror_mode": {
    "name": "ipython",
    "version": 3
   },
   "file_extension": ".py",
   "mimetype": "text/x-python",
   "name": "python",
   "nbconvert_exporter": "python",
   "pygments_lexer": "ipython3",
   "version": "3.9.1"
  }
 },
 "nbformat": 4,
 "nbformat_minor": 5
}
