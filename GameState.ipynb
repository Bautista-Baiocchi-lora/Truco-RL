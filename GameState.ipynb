{
 "cells": [
  {
   "cell_type": "code",
   "execution_count": 1,
   "id": "south-arthur",
   "metadata": {},
   "outputs": [],
   "source": [
    "from player import Player\n",
    "from dealer import Dealer\n",
    "from game import TrucoGame\n",
    "from actions import game_actions\n",
    "from environment import TrucoEnvironment"
   ]
  },
  {
   "cell_type": "code",
   "execution_count": 2,
   "id": "hairy-amino",
   "metadata": {},
   "outputs": [],
   "source": [
    "num_players = 2\n",
    "\n",
    "players = [Player(id) for id in range(num_players)]\n",
    "\n",
    "p0 = players[0]\n",
    "p1 = players[1]\n",
    "\n",
    "env = TrucoEnvironment(players)"
   ]
  },
  {
   "cell_type": "code",
   "execution_count": 3,
   "id": "exterior-final",
   "metadata": {},
   "outputs": [],
   "source": [
    "import torch\n",
    "from torch import nn\n",
    "from collections import deque\n",
    "import itertools\n",
    "import numpy as np\n",
    "import random"
   ]
  },
  {
   "cell_type": "code",
   "execution_count": 4,
   "id": "sapphire-motel",
   "metadata": {},
   "outputs": [],
   "source": [
    "GAMA=0.99\n",
    "BATCH_SIZE=32\n",
    "BUFFER_SIZE=50000\n",
    "MIN_REPLAY_SIZE=1000\n",
    "EPSILON_START=1.0\n",
    "EPSILON_END=0.02\n",
    "EPSILON_DECAY=10000\n",
    "TARGET_UPDATE_FREQ=1000"
   ]
  },
  {
   "cell_type": "code",
   "execution_count": 5,
   "id": "unnecessary-estate",
   "metadata": {},
   "outputs": [],
   "source": [
    "class DQNetwork(nn.Module):\n",
    "    \n",
    "    def __init__(self, state_space_dim, action_space_dim):\n",
    "        super().__init__()\n",
    "        \n",
    "        self.net = nn.Sequential(\n",
    "            nn.Linear(state_space_dim, 64),\n",
    "            nn.Tanh(),\n",
    "            nn.Linear(64, action_space_dim)\n",
    "        )\n",
    "        \n",
    "    def forward(self, x):\n",
    "        return self.net(x)\n",
    "    \n",
    "    def act(self, obs):\n",
    "        pass"
   ]
  },
  {
   "cell_type": "code",
   "execution_count": 6,
   "id": "announced-symbol",
   "metadata": {},
   "outputs": [],
   "source": [
    "replay_buffer = deque(maxlen=BUFFER_SIZE)\n",
    "reward_buffer = deque([0.0], maxlen=100)\n",
    "\n",
    "episode_reward = 0.0"
   ]
  },
  {
   "cell_type": "code",
   "execution_count": 7,
   "id": "finished-dealing",
   "metadata": {},
   "outputs": [],
   "source": [
    "def initialize_agent():\n",
    "    # Initialize the NNs\n",
    "    online_net = DQNetwork(\n",
    "        state_space_dim=env.state_space_dim, \n",
    "        action_space_dim=env.action_space_dim\n",
    "    )\n",
    "\n",
    "    target_net = DQNetwork(\n",
    "        state_space_dim=env.state_space_dim, \n",
    "        action_space_dim=env.action_space_dim\n",
    "    )\n",
    "\n",
    "    # Initialize both with the same weight\n",
    "    target_net.load_state_dict(online_net.state_dict())\n",
    "    \n",
    "    return online_net, target_net\n",
    "\n",
    "agents = [(p, initialize_agent()) for p in players]"
   ]
  },
  {
   "cell_type": "code",
   "execution_count": 8,
   "id": "parallel-television",
   "metadata": {},
   "outputs": [],
   "source": [
    "# reset env\n",
    "next_player, game_state_t = env.reset()\n",
    "\n",
    "# Initialize the ReplayBuffer\n",
    "#for _ in range(MIN_REPLAY_SIZE):\n",
    "    "
   ]
  },
  {
   "cell_type": "code",
   "execution_count": 9,
   "id": "essential-occasions",
   "metadata": {},
   "outputs": [
    {
     "data": {
      "text/plain": [
       "[<card.Card at 0x1b7a9324f70>,\n",
       " <card.Card at 0x1b7a9306910>,\n",
       " <card.Card at 0x1b7a9306850>]"
      ]
     },
     "execution_count": 9,
     "metadata": {},
     "output_type": "execute_result"
    }
   ],
   "source": [
    "p1.hand"
   ]
  },
  {
   "cell_type": "code",
   "execution_count": 10,
   "id": "sacred-conducting",
   "metadata": {},
   "outputs": [
    {
     "data": {
      "text/plain": [
       "array(['envido', 'real envido', 'truco', 'B5', 'O12', 'B2'], dtype='<U11')"
      ]
     },
     "execution_count": 10,
     "metadata": {},
     "output_type": "execute_result"
    }
   ],
   "source": [
    "env.game.get_legal_actions(p0)"
   ]
  },
  {
   "cell_type": "code",
   "execution_count": 16,
   "id": "banned-roberts",
   "metadata": {},
   "outputs": [
    {
     "data": {
      "text/plain": [
       "(<player.Player at 0x1b7c38ac910>,\n",
       " tensor([ 1,  1,  1,  0,  0,  0,  0,  0,  1,  0,  0,  0,  0,  0,  0,  0,  0,  0,\n",
       "          0,  1,  0,  0,  0,  0,  0,  0,  0,  1,  0,  0,  0,  0,  0,  0,  0,  0,\n",
       "          0,  0,  0,  0,  0,  0,  0,  0,  0,  0,  0,  0,  0,  0,  0,  0,  0,  0,\n",
       "          0,  0,  0,  0,  0,  0,  0,  0,  0,  0,  0,  0,  0,  0,  0,  0,  0,  0,\n",
       "          0,  0,  0,  0,  0,  0,  0,  0,  0,  0,  0,  0,  0,  0,  0,  0,  0,  0,\n",
       "          0,  0,  0,  0,  0,  0,  0,  0,  0,  0,  0,  0,  0,  0,  0,  0,  0,  0,\n",
       "          0,  0,  0,  0,  0,  0,  0,  0,  0,  0,  0,  0,  0,  0,  0,  0,  0,  0,\n",
       "          0,  0,  0,  0,  0,  0,  0,  0,  0,  0,  0,  0,  0,  0,  0,  0,  0,  0,\n",
       "          0,  0,  0,  0,  0,  0,  0,  0,  0,  0,  0,  0,  0,  0,  0,  0,  0,  0,\n",
       "          0,  0,  0,  0,  0,  0,  0,  0,  0,  0,  0,  0,  0,  0,  0,  0,  0,  0,\n",
       "          0,  0,  0,  0,  0,  0,  0,  0,  0,  0,  0,  0,  0,  0,  0,  0,  0,  0,\n",
       "          0,  0,  0,  0,  0,  0,  0,  0,  0,  0,  0,  0,  0,  0,  0,  0,  0,  0,\n",
       "          0,  0,  0,  0,  0,  0,  0,  0,  0,  0,  0,  0,  0,  0,  0,  0,  0,  0,\n",
       "          0,  0,  0,  0,  0,  0,  0,  0,  0,  0,  0,  0,  0,  0,  0,  0,  0,  0,\n",
       "          0,  0,  0,  0,  0,  0,  0,  0,  0,  0,  0,  0,  0,  0,  0,  0,  0,  0,\n",
       "          0,  0,  0,  0,  0,  0,  0,  0,  0,  0,  0,  0,  0,  0,  0,  0,  0,  0,\n",
       "          0,  0,  0,  0,  0,  0,  0,  0,  0,  0,  0,  0,  0,  0,  0,  0,  0,  0,\n",
       "          0,  4, 21,  0,  0,  0,  0,  0,  0,  0,  0,  0,  0,  0,  0,  0,  0,  0,\n",
       "          0,  0,  0,  0,  0,  0,  0,  0,  0,  0,  0,  0,  0,  0,  0],\n",
       "        dtype=torch.int8))"
      ]
     },
     "execution_count": 16,
     "metadata": {},
     "output_type": "execute_result"
    }
   ],
   "source": [
    "env.reset()"
   ]
  },
  {
   "cell_type": "code",
   "execution_count": 19,
   "id": "elect-leather",
   "metadata": {},
   "outputs": [
    {
     "name": "stderr",
     "output_type": "stream",
     "text": [
      "03-Oct-21 20:52:39 - INFO - Player 0 | Cards: ['E2', 'B4', 'C3'] called quiero envido\n",
      "03-Oct-21 20:52:39 - DEBUG - Player 0 | Cards: ['E2', 'B4', 'C3'] has an envido of 4\n",
      "03-Oct-21 20:52:39 - DEBUG - Player 1 | Cards: ['C10', 'C1', 'O11'] has an envido of 21\n",
      "03-Oct-21 20:52:39 - DEBUG - Player 1 | Cards: ['C10', 'C1', 'O11'] was rewarded 4 for winning envido.\n"
     ]
    },
    {
     "data": {
      "text/plain": [
       "(-4,\n",
       " array(['truco', 'E2', 'B4', 'C3'], dtype='<U32'),\n",
       " tensor([ 1,  1,  1,  0,  0,  4,  0,  0,  1,  0,  0,  0,  0,  0,  0,  0,  0,  0,\n",
       "          0,  1,  0,  0,  0,  0,  0,  0,  0,  1,  0,  0,  0,  0,  0,  0,  0,  0,\n",
       "          0,  0,  0,  0,  0,  0,  0,  0,  0,  0,  0,  0,  0,  0,  0,  0,  0,  0,\n",
       "          0,  0,  0,  0,  0,  0,  0,  0,  0,  0,  0,  0,  0,  0,  0,  0,  0,  0,\n",
       "          0,  0,  0,  0,  0,  0,  0,  0,  0,  0,  0,  0,  0,  0,  0,  0,  0,  0,\n",
       "          0,  0,  0,  0,  0,  0,  0,  0,  0,  0,  0,  0,  0,  0,  0,  0,  0,  0,\n",
       "          0,  0,  0,  0,  0,  0,  0,  0,  0,  0,  0,  0,  0,  0,  0,  0,  0,  0,\n",
       "          0,  0,  0,  0,  0,  0,  0,  0,  0,  0,  0,  0,  0,  0,  0,  0,  0,  0,\n",
       "          0,  0,  0,  0,  0,  0,  0,  0,  0,  0,  0,  0,  0,  0,  0,  0,  0,  0,\n",
       "          0,  0,  0,  0,  0,  0,  0,  0,  0,  0,  0,  0,  0,  0,  0,  0,  0,  0,\n",
       "          0,  0,  0,  0,  0,  0,  0,  0,  0,  0,  0,  0,  0,  0,  0,  0,  0,  0,\n",
       "          0,  0,  0,  0,  0,  0,  0,  0,  0,  0,  0,  0,  0,  0,  0,  0,  0,  0,\n",
       "          0,  0,  0,  0,  0,  0,  0,  0,  0,  0,  0,  0,  0,  0,  0,  0,  0,  0,\n",
       "          0,  0,  0,  0,  0,  0,  0,  0,  0,  0,  0,  0,  0,  0,  0,  0,  0,  0,\n",
       "          0,  0,  0,  0,  0,  0,  0,  0,  0,  0,  0,  0,  0,  0,  0,  0,  0,  0,\n",
       "          0,  0,  0,  0,  0,  0,  0,  0,  0,  0,  0,  0,  0,  0,  0,  0,  0,  0,\n",
       "          0,  0,  0,  0,  1,  1,  0,  0,  0,  0,  1,  0,  0,  0,  1,  0,  0,  1,\n",
       "          0,  4, 21,  0,  0,  0,  0,  0,  0,  0,  0,  0,  0,  0,  0,  0,  0,  0,\n",
       "          0,  0,  0,  0,  0,  0,  0,  0,  0,  0,  0,  0,  0,  0,  0],\n",
       "        dtype=torch.int8))"
      ]
     },
     "execution_count": 19,
     "metadata": {},
     "output_type": "execute_result"
    }
   ],
   "source": [
    "env.step(p0, 'quiero')"
   ]
  },
  {
   "cell_type": "code",
   "execution_count": 54,
   "id": "advisory-hamburg",
   "metadata": {},
   "outputs": [
    {
     "data": {
      "text/plain": [
       "['quiero', 'no quiero', 'envido', 'real envido']"
      ]
     },
     "execution_count": 54,
     "metadata": {},
     "output_type": "execute_result"
    }
   ],
   "source": [
    "from envido import envido_states\n",
    "\n",
    "\n",
    "\n",
    "def get_current_state(all_states, current_state):\n",
    "    raw_state = [call for player, call in current_state]\n",
    "    \n",
    "    legal_actions = []\n",
    "    for state, val in all_states:\n",
    "        if state[:len(raw_state)] == raw_state:\n",
    "            legal_actions.append(state[len(raw_state)])\n",
    "    \n",
    "    return list(dict.fromkeys(legal_actions))\n",
    "\n",
    "get_current_state(envido_states, env.game.envido.envido_calls)"
   ]
  },
  {
   "cell_type": "code",
   "execution_count": null,
   "id": "multiple-share",
   "metadata": {},
   "outputs": [],
   "source": [
    "env"
   ]
  }
 ],
 "metadata": {
  "kernelspec": {
   "display_name": "Python 3",
   "language": "python",
   "name": "python3"
  },
  "language_info": {
   "codemirror_mode": {
    "name": "ipython",
    "version": 3
   },
   "file_extension": ".py",
   "mimetype": "text/x-python",
   "name": "python",
   "nbconvert_exporter": "python",
   "pygments_lexer": "ipython3",
   "version": "3.9.1"
  }
 },
 "nbformat": 4,
 "nbformat_minor": 5
}
