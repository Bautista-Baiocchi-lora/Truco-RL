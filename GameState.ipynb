{
 "cells": [
  {
   "cell_type": "code",
   "execution_count": null,
   "id": "environmental-burning",
   "metadata": {},
   "outputs": [],
   "source": [
    "from player import Player\n",
    "from dealer import Dealer\n",
    "from game import TrucoGame"
   ]
  },
  {
   "cell_type": "code",
   "execution_count": null,
   "id": "incorporate-vinyl",
   "metadata": {},
   "outputs": [],
   "source": [
    "num_players = 2\n",
    "\n",
    "players = [Player(id) for id in range(num_players)]\n",
    "\n",
    "dealer = Dealer()\n",
    "dealer.deal_cards_in_order(players)\n",
    "\n",
    "game = TrucoGame(players)\n",
    "\n",
    "p0 = game.players[0]\n",
    "p1 = game.players[1]\n",
    "\n",
    "print(p0)\n",
    "print(p1)"
   ]
  },
  {
   "cell_type": "code",
   "execution_count": null,
   "id": "prime-thesis",
   "metadata": {},
   "outputs": [],
   "source": [
    "game.take_action(p0, 'C4')"
   ]
  },
  {
   "cell_type": "code",
   "execution_count": null,
   "id": "registered-california",
   "metadata": {},
   "outputs": [],
   "source": [
    "game.take_action(p1, 'C5')"
   ]
  },
  {
   "cell_type": "code",
   "execution_count": null,
   "id": "dried-commercial",
   "metadata": {},
   "outputs": [],
   "source": [
    "\n",
    "state = []\n",
    "for p, action in game.envido.envido_calls:\n",
    "    state =[1 if player = p else 0, ]"
   ]
  },
  {
   "cell_type": "code",
   "execution_count": null,
   "id": "literary-douglas",
   "metadata": {},
   "outputs": [],
   "source": [
    "get_state(p0, game).shape"
   ]
  },
  {
   "cell_type": "code",
   "execution_count": null,
   "id": "processed-incident",
   "metadata": {},
   "outputs": [],
   "source": []
  },
  {
   "cell_type": "code",
   "execution_count": null,
   "id": "integrated-bloom",
   "metadata": {},
   "outputs": [],
   "source": []
  }
 ],
 "metadata": {
  "kernelspec": {
   "display_name": "Python 3",
   "language": "python",
   "name": "python3"
  },
  "language_info": {
   "codemirror_mode": {
    "name": "ipython",
    "version": 3
   },
   "file_extension": ".py",
   "mimetype": "text/x-python",
   "name": "python",
   "nbconvert_exporter": "python",
   "pygments_lexer": "ipython3",
   "version": "3.9.1"
  }
 },
 "nbformat": 4,
 "nbformat_minor": 5
}
