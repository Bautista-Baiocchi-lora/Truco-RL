{
 "cells": [
  {
   "cell_type": "code",
   "execution_count": null,
   "id": "convertible-sewing",
   "metadata": {},
   "outputs": [],
   "source": [
    "from player import Player\n",
    "from dealer import Dealer\n",
    "from game import TrucoGame\n",
    "from actions import game_actions\n",
    "from environment import TrucoEnvironment"
   ]
  },
  {
   "cell_type": "code",
   "execution_count": null,
   "id": "stylish-welcome",
   "metadata": {},
   "outputs": [],
   "source": [
    "num_players = 2\n",
    "\n",
    "players = [Player(id) for id in range(num_players)]\n",
    "\n",
    "p0 = players[0]\n",
    "p1 = players[1]\n",
    "\n",
    "env = TrucoEnvironment(players)"
   ]
  },
  {
   "cell_type": "code",
   "execution_count": null,
   "id": "physical-necessity",
   "metadata": {},
   "outputs": [],
   "source": [
    "import torch\n",
    "from torch import nn\n",
    "from collections import deque\n",
    "import itertools\n",
    "import numpy as np\n",
    "import random"
   ]
  },
  {
   "cell_type": "code",
   "execution_count": null,
   "id": "stone-mentor",
   "metadata": {},
   "outputs": [],
   "source": [
    "GAMA=0.99\n",
    "BATCH_SIZE=32\n",
    "BUFFER_SIZE=50000\n",
    "MIN_REPLAY_SIZE=1000\n",
    "EPSILON_START=1.0\n",
    "EPSILON_END=0.02\n",
    "EPSILON_DECAY=10000\n",
    "TARGET_UPDATE_FREQ=1000"
   ]
  },
  {
   "cell_type": "code",
   "execution_count": null,
   "id": "associate-people",
   "metadata": {},
   "outputs": [],
   "source": [
    "class DQNetwork(nn.Module):\n",
    "    \n",
    "    def __init__(self, state_space_dim, action_space_dim):\n",
    "        super().__init__()\n",
    "        \n",
    "        self.net = nn.Sequential(\n",
    "            nn.Linear(state_space_dim, 64),\n",
    "            nn.Tanh(),\n",
    "            nn.Linear(64, action_space_dim)\n",
    "        )\n",
    "        \n",
    "    def forward(self, x):\n",
    "        return self.net(x)\n",
    "    \n",
    "    def act(self, game_state_t):\n",
    "        q_values = self(game_state_t.unsqueeze(0))\n",
    "        \n",
    "        return q_values.detach()"
   ]
  },
  {
   "cell_type": "code",
   "execution_count": null,
   "id": "gothic-holocaust",
   "metadata": {},
   "outputs": [],
   "source": [
    "replay_buffer = deque(maxlen=BUFFER_SIZE)\n",
    "reward_buffer = deque([0.0], maxlen=100)\n",
    "\n",
    "episode_reward = 0.0"
   ]
  },
  {
   "cell_type": "code",
   "execution_count": null,
   "id": "frequent-motivation",
   "metadata": {},
   "outputs": [],
   "source": [
    "def initialize_agent():\n",
    "    # Initialize the NNs\n",
    "    online_net = DQNetwork(\n",
    "        state_space_dim=env.state_space_dim, \n",
    "        action_space_dim=env.action_space_dim\n",
    "    )\n",
    "\n",
    "    target_net = DQNetwork(\n",
    "        state_space_dim=env.state_space_dim, \n",
    "        action_space_dim=env.action_space_dim\n",
    "    )\n",
    "\n",
    "    # Initialize both with the same weight\n",
    "    target_net.load_state_dict(online_net.state_dict())\n",
    "    \n",
    "    return online_net, target_net\n",
    "\n",
    "agents = [(p, initialize_agent()) for p in players]"
   ]
  },
  {
   "cell_type": "code",
   "execution_count": null,
   "id": "collected-reflection",
   "metadata": {},
   "outputs": [],
   "source": [
    "# reset env\n",
    "starting_player, legal_actions, game_state_t = env.reset()\n",
    "\n",
    "# Initialize the ReplayBuffer\n",
    "while len(replay_buffer) < MIN_REPLAY_SIZE:\n",
    "    # pick legal action given uniform distribution\n",
    "    action = np.random.choice(legal_actions, 1, [1/len(legal_actions) for i in legal_actions])\n",
    "    \n",
    "    # Take action, observer outcome\n",
    "    rew, done, next_player, next_legal_actions, new_game_state_t = env.step(starting_player, action)\n",
    "    \n",
    "    #Save transition for training later\n",
    "    transition = (game_state_t, action, rew, done, new_game_state_t)\n",
    "    replay_buffer.append(transition)\n",
    "    \n",
    "    starting_player = next_player\n",
    "    legal_actions = next_legal_actions\n",
    "    game_state_t = new_game_state_t\n",
    "    \n",
    "    if done:\n",
    "        starting_player, legal_actions, game_state_t = env.reset()\n",
    "        "
   ]
  },
  {
   "cell_type": "code",
   "execution_count": null,
   "id": "suitable-logan",
   "metadata": {},
   "outputs": [],
   "source": [
    "# reset env\n",
    "starting_player, legal_actions, game_state_t = env.reset()\n"
   ]
  },
  {
   "cell_type": "code",
   "execution_count": null,
   "id": "greenhouse-burst",
   "metadata": {},
   "outputs": [],
   "source": [
    "online_net = [nets[0] for player, nets in agents if player == starting_player][0]\n",
    "online_net.act(game_state_t)"
   ]
  },
  {
   "cell_type": "code",
   "execution_count": null,
   "id": "attended-bathroom",
   "metadata": {},
   "outputs": [],
   "source": [
    "\n",
    "# Main training loop\n",
    "for step in itertools.count():\n",
    "    epsilon = np.interp(step, [0, EPSILON_DECAY], [EPSILON_START, EPSILON_END])\n",
    "    \n",
    "    # Calculate Q-Values \n",
    "    online_net = [nets[0] for player, nets in agents if player == starting_player][0]\n",
    "    q_values = online_net.act(game_state_t)\n",
    "    probs = np.ones(len(legal_actions), dtype=float) * epsilon / len(legal_actions)\n",
    "    # find the highest Q-Value\n",
    "    best_action_index = legal_actions.index(np.argmax(q_values))\n",
    "    # Assign it a higher probability than the others\n",
    "    probs[best_action_index] += (1.0 - epsilon)\n",
    "    # Choose action\n",
    "    action_index = np.random.choice(np.arrange(len(probs)), p=probs)\n",
    "    action = legal_actions[action_index]\n",
    "        \n",
    "    # Take action, observer outcome\n",
    "    rew, done, next_player, next_legal_actions, new_game_state_t = env.step(starting_player, action)\n",
    "    \n",
    "    #Save transition for training later\n",
    "    transition = (game_state_t, action, rew, done, new_game_state_t)\n",
    "    replay_buffer.append(transition)\n",
    "    \n",
    "    starting_player = next_player\n",
    "    legal_actions = next_legal_actions\n",
    "    game_state_t = new_game_state_t\n",
    "    \n",
    "    episode_reward += rew\n",
    "    \n",
    "    if done:\n",
    "        starting_player, legal_actions, game_state_t = env.reset()\n",
    "        \n",
    "        rew_buffer.append(episode_reward)\n",
    "        episode_reward = 0"
   ]
  },
  {
   "cell_type": "code",
   "execution_count": null,
   "id": "inside-jonathan",
   "metadata": {},
   "outputs": [],
   "source": []
  }
 ],
 "metadata": {
  "kernelspec": {
   "display_name": "Python 3",
   "language": "python",
   "name": "python3"
  },
  "language_info": {
   "codemirror_mode": {
    "name": "ipython",
    "version": 3
   },
   "file_extension": ".py",
   "mimetype": "text/x-python",
   "name": "python",
   "nbconvert_exporter": "python",
   "pygments_lexer": "ipython3",
   "version": "3.9.1"
  }
 },
 "nbformat": 4,
 "nbformat_minor": 5
}
