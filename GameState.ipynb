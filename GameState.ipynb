{
 "cells": [
  {
   "cell_type": "code",
   "execution_count": null,
   "id": "printable-visibility",
   "metadata": {},
   "outputs": [],
   "source": [
    "from player import Player\n",
    "from dealer import Dealer\n",
    "from game import TrucoGame\n",
    "from actions import game_actions\n",
    "from environment import TrucoEnvironment"
   ]
  },
  {
   "cell_type": "code",
   "execution_count": null,
   "id": "reflected-bracelet",
   "metadata": {},
   "outputs": [],
   "source": [
    "num_players = 2\n",
    "\n",
    "players = [Player(id) for id in range(num_players)]\n",
    "\n",
    "p0 = players[0]\n",
    "p1 = players[1]\n",
    "\n",
    "env = TrucoEnvironment(players)"
   ]
  },
  {
   "cell_type": "code",
   "execution_count": null,
   "id": "green-atlanta",
   "metadata": {},
   "outputs": [],
   "source": [
    "import torch\n",
    "from torch import nn\n",
    "from collections import deque\n",
    "import itertools\n",
    "import numpy as np\n",
    "import random"
   ]
  },
  {
   "cell_type": "code",
   "execution_count": null,
   "id": "photographic-violin",
   "metadata": {},
   "outputs": [],
   "source": [
    "GAMA=0.99\n",
    "BATCH_SIZE=32\n",
    "BUFFER_SIZE=50000\n",
    "MIN_REPLAY_SIZE=1000\n",
    "EPSILON_START=1.0\n",
    "EPSILON_END=0.02\n",
    "EPSILON_DECAY=10000\n",
    "TARGET_UPDATE_FREQ=1000"
   ]
  },
  {
   "cell_type": "code",
   "execution_count": null,
   "id": "outer-filename",
   "metadata": {},
   "outputs": [],
   "source": [
    "class DQNetwork(nn.Module):\n",
    "    \n",
    "    def __init__(self, state_space_dim, action_space_dim):\n",
    "        super().__init__()\n",
    "        \n",
    "        self.net = nn.Sequential(\n",
    "            nn.Linear(state_space_dim, 64),\n",
    "            nn.Tanh(),\n",
    "            nn.Linear(64, action_space_dim)\n",
    "        )\n",
    "        \n",
    "    def forward(self, x):\n",
    "        return self.net(x)\n",
    "    \n",
    "    def act(self, obs):\n",
    "        pass"
   ]
  },
  {
   "cell_type": "code",
   "execution_count": null,
   "id": "infectious-finance",
   "metadata": {},
   "outputs": [],
   "source": [
    "replay_buffer = deque(maxlen=BUFFER_SIZE)\n",
    "reward_buffer = deque([0.0], maxlen=100)\n",
    "\n",
    "episode_reward = 0.0"
   ]
  },
  {
   "cell_type": "code",
   "execution_count": null,
   "id": "focal-eagle",
   "metadata": {},
   "outputs": [],
   "source": [
    "def initialize_agent():\n",
    "    # Initialize the NNs\n",
    "    online_net = DQNetwork(\n",
    "        state_space_dim=env.state_space_dim, \n",
    "        action_space_dim=env.action_space_dim\n",
    "    )\n",
    "\n",
    "    target_net = DQNetwork(\n",
    "        state_space_dim=env.state_space_dim, \n",
    "        action_space_dim=env.action_space_dim\n",
    "    )\n",
    "\n",
    "    # Initialize both with the same weight\n",
    "    target_net.load_state_dict(online_net.state_dict())\n",
    "    \n",
    "    return online_net, target_net\n",
    "\n",
    "agents = [(p, initialize_agent()) for p in players]"
   ]
  },
  {
   "cell_type": "code",
   "execution_count": null,
   "id": "verbal-coast",
   "metadata": {},
   "outputs": [],
   "source": [
    "replay_buffer.clear()\n",
    "\n",
    "# reset env\n",
    "starting_player, legal_actions, game_state_t = env.reset()\n",
    "\n",
    "# Initialize the ReplayBuffer\n",
    "while len(replay_buffer) < MIN_REPLAY_SIZE:\n",
    "    if len(legal_actions) == 0:\n",
    "        break\n",
    "    # pick legal action given uniform distribution\n",
    "    action = np.random.choice(legal_actions, 1, [1/len(legal_actions) for i in legal_actions])\n",
    "    \n",
    "    # Take action, observer outcome\n",
    "    rew, done, next_player, next_legal_actions, new_game_state_t = env.step(starting_player, action)\n",
    "    \n",
    "    #Save transition for training later\n",
    "    transition = (game_state_t, action, rew, done, new_game_state_t)\n",
    "    replay_buffer.append(transition)\n",
    "    \n",
    "    starting_player = next_player\n",
    "    legal_actions = next_legal_actions\n",
    "    game_state_t = new_game_state_t\n",
    "    \n",
    "    if done:\n",
    "        starting_player, legal_actions, game_state_t = env.reset()\n",
    "        \n",
    "len(replay_buffer)"
   ]
  },
  {
   "cell_type": "code",
   "execution_count": null,
   "id": "collectible-philippines",
   "metadata": {},
   "outputs": [],
   "source": [
    "env.game.card_game.card_next == starting_player"
   ]
  },
  {
   "cell_type": "code",
   "execution_count": null,
   "id": "former-investigator",
   "metadata": {},
   "outputs": [],
   "source": [
    "str(starting_player)"
   ]
  },
  {
   "cell_type": "code",
   "execution_count": null,
   "id": "equipped-spirit",
   "metadata": {},
   "outputs": [],
   "source": [
    "env.game.get_mano() == starting_player"
   ]
  },
  {
   "cell_type": "code",
   "execution_count": null,
   "id": "pressed-player",
   "metadata": {},
   "outputs": [],
   "source": [
    "[call for p, call in env.game.truco.truco_calls].count('quiero') < 2 and [call for p, call in env.game.truco.truco_calls].count('vale cuatro') == 0"
   ]
  },
  {
   "cell_type": "code",
   "execution_count": null,
   "id": "manufactured-property",
   "metadata": {},
   "outputs": [],
   "source": [
    "env.game.get_legal_actions(starting_player)"
   ]
  },
  {
   "cell_type": "code",
   "execution_count": null,
   "id": "spoken-shape",
   "metadata": {},
   "outputs": [],
   "source": [
    "env.game.truco.is_active() or (env.game.truco.is_finished() and env.game.truco.has_retruco == starting_player)"
   ]
  },
  {
   "cell_type": "code",
   "execution_count": null,
   "id": "meaningful-content",
   "metadata": {},
   "outputs": [],
   "source": [
    "env.game.truco.has_retruco == starting_player\n"
   ]
  },
  {
   "cell_type": "code",
   "execution_count": null,
   "id": "unlimited-worst",
   "metadata": {},
   "outputs": [],
   "source": [
    "env.game.card_game.cards_played[0][0] == starting_player"
   ]
  },
  {
   "cell_type": "code",
   "execution_count": null,
   "id": "patent-webmaster",
   "metadata": {},
   "outputs": [],
   "source": [
    "legal_actions"
   ]
  },
  {
   "cell_type": "code",
   "execution_count": null,
   "id": "periodic-validity",
   "metadata": {},
   "outputs": [],
   "source": []
  }
 ],
 "metadata": {
  "kernelspec": {
   "display_name": "Python 3",
   "language": "python",
   "name": "python3"
  },
  "language_info": {
   "codemirror_mode": {
    "name": "ipython",
    "version": 3
   },
   "file_extension": ".py",
   "mimetype": "text/x-python",
   "name": "python",
   "nbconvert_exporter": "python",
   "pygments_lexer": "ipython3",
   "version": "3.9.1"
  }
 },
 "nbformat": 4,
 "nbformat_minor": 5
}
