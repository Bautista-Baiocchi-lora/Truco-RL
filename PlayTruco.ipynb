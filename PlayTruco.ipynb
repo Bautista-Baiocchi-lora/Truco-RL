{
 "cells": [
  {
   "cell_type": "code",
   "execution_count": 8,
   "id": "powered-colorado",
   "metadata": {},
   "outputs": [],
   "source": [
    "from player import Player\n",
    "from dealer import Dealer\n",
    "from game import TrucoGame"
   ]
  },
  {
   "cell_type": "code",
   "execution_count": 9,
   "id": "virtual-parts",
   "metadata": {},
   "outputs": [
    {
     "name": "stdout",
     "output_type": "stream",
     "text": [
      "Player 0 | Cards: ['B2', 'O6', 'E12']\n",
      "Player 1 | Cards: ['E11', 'E7', 'C3']\n"
     ]
    }
   ],
   "source": [
    "num_players = 2\n",
    "\n",
    "players = [Player(id) for id in range(num_players)]\n",
    "\n",
    "game = TrucoGame(players)\n",
    "\n",
    "p0 = game.players[0]\n",
    "p1 = game.players[1]\n",
    "\n",
    "print(p0)\n",
    "print(p1)"
   ]
  },
  {
   "cell_type": "code",
   "execution_count": 10,
   "id": "historic-liverpool",
   "metadata": {},
   "outputs": [
    {
     "name": "stderr",
     "output_type": "stream",
     "text": [
      "30-Sep-21 14:28:39 - INFO - Player 0 | Cards: ['B2', 'O6', 'E12'] called truco to start truco\n"
     ]
    }
   ],
   "source": [
    "game.take_action(p0, 'truco')"
   ]
  },
  {
   "cell_type": "code",
   "execution_count": 11,
   "id": "collaborative-triple",
   "metadata": {},
   "outputs": [
    {
     "name": "stderr",
     "output_type": "stream",
     "text": [
      "30-Sep-21 14:28:40 - INFO - Player 1 | Cards: ['E11', 'E7', 'C3'] called quiero truco\n"
     ]
    }
   ],
   "source": [
    "game.take_action(p1, 'quiero')"
   ]
  },
  {
   "cell_type": "code",
   "execution_count": 12,
   "id": "planned-tampa",
   "metadata": {},
   "outputs": [
    {
     "name": "stderr",
     "output_type": "stream",
     "text": [
      "30-Sep-21 14:28:41 - INFO - Player 1 | Cards: ['E11', 'E7', 'C3'] called re-truco for re-truco\n"
     ]
    }
   ],
   "source": [
    "game.take_action(p1, 're-truco')"
   ]
  },
  {
   "cell_type": "code",
   "execution_count": 6,
   "id": "sought-builder",
   "metadata": {},
   "outputs": [
    {
     "name": "stderr",
     "output_type": "stream",
     "text": [
      "30-Sep-21 14:25:05 - INFO - Player 0 | Cards: ['C12', 'B10', 'O5'] called vale cuatro\n"
     ]
    }
   ],
   "source": [
    "game.take_action(p0, 'vale cuatro')"
   ]
  },
  {
   "cell_type": "code",
   "execution_count": 8,
   "id": "southeast-mayor",
   "metadata": {},
   "outputs": [
    {
     "name": "stderr",
     "output_type": "stream",
     "text": [
      "30-Sep-21 14:25:11 - INFO - Player 1 | Cards: ['B3', 'C1', 'E11'] called no quiero truco\n",
      "30-Sep-21 14:25:11 - DEBUG - Player 0 | Cards: ['C12', 'B10', 'O5'] was rewarded 3 for winning truco.\n",
      "30-Sep-21 14:25:11 - INFO - Hand finished.\n",
      "30-Sep-21 14:25:11 - INFO - Player 0 | Cards: ['C12', 'B10', 'O5'] scored 3\n",
      "30-Sep-21 14:25:11 - INFO - Player 1 | Cards: ['B3', 'C1', 'E11'] scored 0\n"
     ]
    }
   ],
   "source": [
    "game.take_action(p1, 'no quiero')"
   ]
  },
  {
   "cell_type": "code",
   "execution_count": 14,
   "id": "baking-yemen",
   "metadata": {},
   "outputs": [
    {
     "name": "stderr",
     "output_type": "stream",
     "text": [
      "30-Sep-21 14:28:47 - INFO - Player 0 | Cards: ['B2', 'O6', 'E12'] called quiero truco\n"
     ]
    }
   ],
   "source": [
    "game.take_action(p0, 'quiero')"
   ]
  },
  {
   "cell_type": "code",
   "execution_count": null,
   "id": "useful-muscle",
   "metadata": {},
   "outputs": [],
   "source": []
  }
 ],
 "metadata": {
  "kernelspec": {
   "display_name": "Python 3",
   "language": "python",
   "name": "python3"
  },
  "language_info": {
   "codemirror_mode": {
    "name": "ipython",
    "version": 3
   },
   "file_extension": ".py",
   "mimetype": "text/x-python",
   "name": "python",
   "nbconvert_exporter": "python",
   "pygments_lexer": "ipython3",
   "version": "3.9.1"
  }
 },
 "nbformat": 4,
 "nbformat_minor": 5
}
