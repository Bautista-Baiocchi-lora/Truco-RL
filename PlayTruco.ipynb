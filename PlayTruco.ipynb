{
 "cells": [
  {
   "cell_type": "code",
   "execution_count": 1,
   "id": "celtic-paintball",
   "metadata": {},
   "outputs": [],
   "source": [
    "from player import Player\n",
    "from dealer import Dealer\n",
    "from game import TrucoGame"
   ]
  },
  {
   "cell_type": "code",
   "execution_count": 2,
   "id": "blessed-peter",
   "metadata": {},
   "outputs": [
    {
     "name": "stdout",
     "output_type": "stream",
     "text": [
      "Player 0 | Cards: ['C12', 'B10', 'O5']\n",
      "Player 1 | Cards: ['B3', 'C1', 'E11']\n"
     ]
    }
   ],
   "source": [
    "num_players = 2\n",
    "\n",
    "players = [Player(id) for id in range(num_players)]\n",
    "\n",
    "game = TrucoGame(players)\n",
    "\n",
    "p0 = game.players[0]\n",
    "p1 = game.players[1]\n",
    "\n",
    "print(p0)\n",
    "print(p1)"
   ]
  },
  {
   "cell_type": "code",
   "execution_count": 3,
   "id": "united-bruce",
   "metadata": {},
   "outputs": [
    {
     "name": "stderr",
     "output_type": "stream",
     "text": [
      "30-Sep-21 14:25:04 - INFO - Player 0 | Cards: ['C12', 'B10', 'O5'] called truco to start truco\n"
     ]
    }
   ],
   "source": [
    "game.take_action(p0, 'truco')"
   ]
  },
  {
   "cell_type": "code",
   "execution_count": 4,
   "id": "loose-rings",
   "metadata": {},
   "outputs": [
    {
     "name": "stderr",
     "output_type": "stream",
     "text": [
      "30-Sep-21 14:25:04 - INFO - Player 1 | Cards: ['B3', 'C1', 'E11'] called quiero truco\n"
     ]
    }
   ],
   "source": [
    "game.take_action(p1, 'quiero')"
   ]
  },
  {
   "cell_type": "code",
   "execution_count": 5,
   "id": "animal-lighting",
   "metadata": {},
   "outputs": [
    {
     "name": "stderr",
     "output_type": "stream",
     "text": [
      "30-Sep-21 14:25:04 - INFO - Player 1 | Cards: ['B3', 'C1', 'E11'] called re-truco for re-truco\n"
     ]
    }
   ],
   "source": [
    "game.take_action(p1, 're-truco')"
   ]
  },
  {
   "cell_type": "code",
   "execution_count": 6,
   "id": "flying-navigator",
   "metadata": {},
   "outputs": [
    {
     "name": "stderr",
     "output_type": "stream",
     "text": [
      "30-Sep-21 14:25:05 - INFO - Player 0 | Cards: ['C12', 'B10', 'O5'] called vale cuatro\n"
     ]
    }
   ],
   "source": [
    "game.take_action(p0, 'vale cuatro')"
   ]
  },
  {
   "cell_type": "code",
   "execution_count": 8,
   "id": "royal-occasion",
   "metadata": {},
   "outputs": [
    {
     "name": "stderr",
     "output_type": "stream",
     "text": [
      "30-Sep-21 14:25:11 - INFO - Player 1 | Cards: ['B3', 'C1', 'E11'] called no quiero truco\n",
      "30-Sep-21 14:25:11 - DEBUG - Player 0 | Cards: ['C12', 'B10', 'O5'] was rewarded 3 for winning truco.\n",
      "30-Sep-21 14:25:11 - INFO - Hand finished.\n",
      "30-Sep-21 14:25:11 - INFO - Player 0 | Cards: ['C12', 'B10', 'O5'] scored 3\n",
      "30-Sep-21 14:25:11 - INFO - Player 1 | Cards: ['B3', 'C1', 'E11'] scored 0\n"
     ]
    }
   ],
   "source": [
    "game.take_action(p1, 'no quiero')"
   ]
  },
  {
   "cell_type": "code",
   "execution_count": 18,
   "id": "located-button",
   "metadata": {},
   "outputs": [
    {
     "name": "stderr",
     "output_type": "stream",
     "text": [
      "30-Sep-21 14:16:42 - INFO - Player 1 | Cards: ['C4', 'C7', 'O5'] called quiero truco\n"
     ]
    }
   ],
   "source": [
    "game.take_action(p1, 'quiero')"
   ]
  },
  {
   "cell_type": "code",
   "execution_count": null,
   "id": "adapted-tampa",
   "metadata": {},
   "outputs": [],
   "source": []
  }
 ],
 "metadata": {
  "kernelspec": {
   "display_name": "Python 3",
   "language": "python",
   "name": "python3"
  },
  "language_info": {
   "codemirror_mode": {
    "name": "ipython",
    "version": 3
   },
   "file_extension": ".py",
   "mimetype": "text/x-python",
   "name": "python",
   "nbconvert_exporter": "python",
   "pygments_lexer": "ipython3",
   "version": "3.9.1"
  }
 },
 "nbformat": 4,
 "nbformat_minor": 5
}
