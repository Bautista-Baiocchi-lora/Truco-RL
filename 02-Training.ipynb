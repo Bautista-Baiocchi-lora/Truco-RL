{
 "cells": [
  {
   "cell_type": "code",
   "execution_count": 1,
   "id": "tamil-timothy",
   "metadata": {},
   "outputs": [],
   "source": [
    "from player import Player\n",
    "from dealer import Dealer\n",
    "from game import TrucoGame\n",
    "from environment import TrucoEnvironment\n",
    "from agent import Agent, save_agent, load_agent\n",
    "from actions import game_actions, game_actions_list\n",
    "import random\n",
    "import itertools\n",
    "import torch as T\n",
    "import numpy as np\n",
    "import logging"
   ]
  },
  {
   "cell_type": "code",
   "execution_count": 2,
   "id": "floating-heaven",
   "metadata": {},
   "outputs": [],
   "source": [
    "device = T.device(\"cuda:0\" if T.cuda.is_available() else \"cpu\")"
   ]
  },
  {
   "cell_type": "code",
   "execution_count": 5,
   "id": "three-document",
   "metadata": {},
   "outputs": [],
   "source": [
    "names = ['Coors', 'Bud', 'Patagonia', 'Stella']\n",
    "\n",
    "\n",
    "#agents = [Agent(player=Player(names[i]), state_space_dim=339, action_space_dim=game_actions.shape[0],model_type='deep', device=device, replay_buffer_size=25000, batch_size=48, target_update_freq=1500, epsilon_end=0.05, epsilon_decay=1500000, learning_rate=0.0005, weight_decay=1e-3) for i in range(len(names))]\n",
    "agents = [load_agent(name, device) for name in names]\n",
    "\n",
    "random.shuffle(agents)\n",
    "\n",
    "envs = [TrucoEnvironment([a1.player, a2.player], logging_level=logging.WARNING) for a1, a2 in zip(agents[0::2], agents[1::2])]"
   ]
  },
  {
   "cell_type": "code",
   "execution_count": 6,
   "id": "running-april",
   "metadata": {},
   "outputs": [],
   "source": [
    "def get_env_by_agent(envs, agent):\n",
    "    for env in envs:\n",
    "        if agent.player in env.players:\n",
    "            return env\n",
    "    return None\n",
    "\n",
    "def get_agents_by_env(agents, env):\n",
    "    playing = []\n",
    "    for agent in agents:\n",
    "        if agent.player in env.players:\n",
    "            playing.append(agent)\n",
    "    return playing[0], playing[1]"
   ]
  },
  {
   "cell_type": "code",
   "execution_count": 7,
   "id": "bored-motorcycle",
   "metadata": {},
   "outputs": [],
   "source": [
    "for env in envs:\n",
    "    \n",
    "    playing_agents = get_agents_by_env(agents, env)\n",
    "    \n",
    "    for agent in playing_agents:\n",
    "\n",
    "        # reset env\n",
    "        starting_player, legal_actions, game_state = env.reset(False)\n",
    "\n",
    "        # Initialize the ReplayBuffer\n",
    "        while len(agent.replay_buffer) < agent.min_replay_size:\n",
    "            # pick legal action given uniform distribution\n",
    "            action = np.random.choice(legal_actions, 1, [1/len(legal_actions) for i in legal_actions])\n",
    "            action = game_actions_list.index(action)\n",
    "\n",
    "            # Take action, observer outcome\n",
    "            rew, done, next_player, next_legal_actions, new_game_state = env.step(starting_player, action)\n",
    "\n",
    "            #Save transition for training later\n",
    "            transition = (game_state, action, rew, done, new_game_state)\n",
    "            agent.save_transition(transition)\n",
    "\n",
    "            starting_player = next_player\n",
    "            legal_actions = next_legal_actions\n",
    "            game_state = new_game_state\n",
    "\n",
    "            if done:\n",
    "                starting_player, legal_actions, game_state = env.reset()"
   ]
  },
  {
   "cell_type": "code",
   "execution_count": 8,
   "id": "executive-soccer",
   "metadata": {},
   "outputs": [],
   "source": [
    "PLAYER_SWAP_FREQ=35000"
   ]
  },
  {
   "cell_type": "code",
   "execution_count": null,
   "id": "closing-roads",
   "metadata": {},
   "outputs": [
    {
     "name": "stdout",
     "output_type": "stream",
     "text": [
      "Starting epoch: 0\n",
      "Step: 15000 | Player: Patagonia | Avg reward: 0.89 | W/L: 0.5184784957856062 | Games: 4627 | Time: 0:00:36.335759\n",
      "Step: 15000 | Player: Bud | Avg reward: 0.99 | W/L: 0.48152150421439377 | Games: 4627 | Time: 0:00:36.335868\n",
      "Step: 30000 | Player: Patagonia | Avg reward: 1.07 | W/L: 0.5234096399401817 | Games: 8693 | Time: 0:01:11.993003\n",
      "Step: 30000 | Player: Bud | Avg reward: 0.97 | W/L: 0.47659036005981825 | Games: 8693 | Time: 0:01:11.993164\n",
      "Player Patagonia vs Player Bud finished.\n",
      "Step: 15000 | Player: Stella | Avg reward: 0.93 | W/L: 0.5353119584055459 | Games: 4616 | Time: 0:00:36.277294\n",
      "Step: 15000 | Player: Coors | Avg reward: 1.0 | W/L: 0.4646880415944541 | Games: 4616 | Time: 0:00:36.277464\n",
      "Step: 30000 | Player: Stella | Avg reward: 0.99 | W/L: 0.5395558639833449 | Games: 8646 | Time: 0:01:12.213294\n",
      "Step: 30000 | Player: Coors | Avg reward: 0.8 | W/L: 0.4604441360166551 | Games: 8646 | Time: 0:01:12.213452\n",
      "Player Stella vs Player Coors finished.\n",
      "Epoch 0 finished in 0:02:48.917578\n",
      "Starting epoch: 1\n",
      "Step: 15000 | Player: Stella | Avg reward: 1.05 | W/L: 0.5164424514200299 | Games: 4014 | Time: 0:00:36.388633\n",
      "Step: 15000 | Player: Bud | Avg reward: 1.03 | W/L: 0.48355754857997013 | Games: 4014 | Time: 0:00:36.388786\n",
      "Step: 30000 | Player: Stella | Avg reward: 1.03 | W/L: 0.5242257742257742 | Games: 8008 | Time: 0:01:12.697562\n",
      "Step: 30000 | Player: Bud | Avg reward: 0.97 | W/L: 0.4757742257742258 | Games: 8008 | Time: 0:01:12.697688\n",
      "Player Stella vs Player Bud finished.\n",
      "Step: 15000 | Player: Patagonia | Avg reward: 1.09 | W/L: 0.5386369394476818 | Games: 3947 | Time: 0:00:36.676043\n",
      "Step: 15000 | Player: Coors | Avg reward: 0.98 | W/L: 0.46136306055231824 | Games: 3947 | Time: 0:00:36.676159\n",
      "Step: 30000 | Player: Patagonia | Avg reward: 0.92 | W/L: 0.5318014472514917 | Games: 7877 | Time: 0:01:13.025123\n",
      "Step: 30000 | Player: Coors | Avg reward: 0.85 | W/L: 0.4681985527485083 | Games: 7877 | Time: 0:01:13.025239\n",
      "Player Patagonia vs Player Coors finished.\n",
      "Epoch 1 finished in 0:02:49.651416\n",
      "Starting epoch: 2\n",
      "Step: 15000 | Player: Bud | Avg reward: 0.91 | W/L: 0.5216737659734403 | Games: 3991 | Time: 0:00:37.048462\n",
      "Step: 15000 | Player: Stella | Avg reward: 1.17 | W/L: 0.47832623402655977 | Games: 3991 | Time: 0:00:37.048586\n",
      "Step: 30000 | Player: Bud | Avg reward: 1.16 | W/L: 0.5253742704897234 | Games: 7882 | Time: 0:01:13.149150\n",
      "Step: 30000 | Player: Stella | Avg reward: 0.93 | W/L: 0.4746257295102766 | Games: 7882 | Time: 0:01:13.149307\n",
      "Player Bud vs Player Stella finished.\n",
      "Step: 15000 | Player: Patagonia | Avg reward: 0.91 | W/L: 0.5301113360323887 | Games: 3952 | Time: 0:00:37.011184\n",
      "Step: 15000 | Player: Coors | Avg reward: 0.95 | W/L: 0.4698886639676113 | Games: 3952 | Time: 0:00:37.011357\n",
      "Step: 30000 | Player: Patagonia | Avg reward: 1.0 | W/L: 0.5281111813013266 | Games: 7915 | Time: 0:01:13.084573\n",
      "Step: 30000 | Player: Coors | Avg reward: 0.97 | W/L: 0.4718888186986734 | Games: 7915 | Time: 0:01:13.084734\n",
      "Player Patagonia vs Player Coors finished.\n",
      "Agent Stella saved. \n",
      "Agent Patagonia saved. \n",
      "Agent Bud saved. \n",
      "Agent Coors saved. \n",
      "Epoch 2 finished in 0:02:52.031461\n",
      "Starting epoch: 3\n",
      "Step: 15000 | Player: Stella | Avg reward: 0.98 | W/L: 0.534182479854432 | Games: 3847 | Time: 0:00:42.004479\n",
      "Step: 15000 | Player: Patagonia | Avg reward: 1.19 | W/L: 0.465817520145568 | Games: 3847 | Time: 0:00:42.004637\n",
      "Step: 30000 | Player: Stella | Avg reward: 0.97 | W/L: 0.525009643821525 | Games: 7777 | Time: 0:01:24.390715\n",
      "Step: 30000 | Player: Patagonia | Avg reward: 1.01 | W/L: 0.474990356178475 | Games: 7777 | Time: 0:01:24.390883\n",
      "Player Stella vs Player Patagonia finished.\n"
     ]
    }
   ],
   "source": [
    "import warnings\n",
    "warnings.simplefilter(action='ignore', category=FutureWarning)\n",
    "\n",
    "from timeit import default_timer as timer\n",
    "import datetime\n",
    "\n",
    "for epoch in itertools.count():\n",
    "    print(f\"Starting epoch: {epoch}\")\n",
    "    epoch_start = timer()\n",
    "    \n",
    "    for env in envs:\n",
    "        \n",
    "        env_start = timer()\n",
    "\n",
    "        starting_player, legal_actions, game_state = env.reset(False)\n",
    "        playing_agents = get_agents_by_env(agents, env)\n",
    "\n",
    "        # Main training loop\n",
    "        for step in itertools.count():\n",
    "            agent = [agent for agent in playing_agents if agent.player == starting_player][0]\n",
    "\n",
    "            action = agent.choose_action(legal_actions, game_state)\n",
    "\n",
    "            # Take action, observe outcome\n",
    "            rew, done, next_player, next_legal_actions, new_game_state = env.step(agent.player, action)\n",
    "\n",
    "            #Save transition for training later\n",
    "            transition = (game_state, action, rew, done, new_game_state)\n",
    "            agent.save_transition(transition)\n",
    "\n",
    "            starting_player = next_player\n",
    "            legal_actions = next_legal_actions\n",
    "            game_state = new_game_state\n",
    "\n",
    "            if done:\n",
    "                # Give agents their episode reward\n",
    "                for agent in playing_agents:\n",
    "                    agent.save_reward(env.game.get_score(agent.player))\n",
    "\n",
    "                starting_player, legal_actions, game_state = env.reset(False)\n",
    "\n",
    "            # Learn from replay buffer\n",
    "            agent.learn()\n",
    "\n",
    "            # Logging\n",
    "            if step % 15000 == 0 and step > 0:\n",
    "                for agent in playing_agents:\n",
    "                    avg_reward = np.mean(agent.reward_buffer)\n",
    "                    print(f\"Step: {step} | Player: {agent.player.get_id()} | Avg reward: {avg_reward} | W/L: {max([w if p == agent.player else 0 for p, w in env.games_won])/env.games_played} | Games: {env.games_played} | Time: {str(datetime.timedelta(seconds=(timer() - env_start)))}\")   \n",
    "\n",
    "            # Break out of training loop when swap rate is reached\n",
    "            if step % PLAYER_SWAP_FREQ == 0 and step > 0:\n",
    "                print(f\"Player {playing_agents[0].player.get_id()} vs Player {playing_agents[1].player.get_id()} finished.\")\n",
    "                \n",
    "                # Clear GPU cache\n",
    "                T.cuda.empty_cache()\n",
    "                break;\n",
    "\n",
    "    \n",
    "                \n",
    "    # Destroy all envs\n",
    "    envs.clear()\n",
    "\n",
    "    random.shuffle(agents)\n",
    "\n",
    "    # Create new Envs\n",
    "    envs = [TrucoEnvironment([a1.player, a2.player]) for a1, a2 in zip(agents[0::2], agents[1::2])]\n",
    "    \n",
    "    # Save models\n",
    "    if epoch % 2 == 0 and epoch > 0:\n",
    "        for agent in agents:\n",
    "            save_agent(agent)\n",
    "    \n",
    "    print(f\"Epoch {epoch} finished in {str(datetime.timedelta(seconds=(timer() - epoch_start)))}\")\n",
    "    "
   ]
  },
  {
   "cell_type": "code",
   "execution_count": 4,
   "id": "running-domestic",
   "metadata": {},
   "outputs": [
    {
     "name": "stdout",
     "output_type": "stream",
     "text": [
      "Agent Patagonia saved. \n",
      "Agent Coors saved. \n",
      "Agent Bud saved. \n",
      "Agent Stella saved. \n"
     ]
    }
   ],
   "source": [
    "for agent in agents:\n",
    "    save_agent(agent)"
   ]
  },
  {
   "cell_type": "code",
   "execution_count": null,
   "id": "restricted-present",
   "metadata": {},
   "outputs": [],
   "source": [
    "for agent in agents:\n",
    "    print(agent.step)"
   ]
  },
  {
   "cell_type": "code",
   "execution_count": null,
   "id": "sunset-pacific",
   "metadata": {},
   "outputs": [],
   "source": [
    "for agent in agents:\n",
    "    print()\n",
    "    print(agent.get_config())"
   ]
  }
 ],
 "metadata": {
  "kernelspec": {
   "display_name": "Python 3",
   "language": "python",
   "name": "python3"
  },
  "language_info": {
   "codemirror_mode": {
    "name": "ipython",
    "version": 3
   },
   "file_extension": ".py",
   "mimetype": "text/x-python",
   "name": "python",
   "nbconvert_exporter": "python",
   "pygments_lexer": "ipython3",
   "version": "3.9.1"
  }
 },
 "nbformat": 4,
 "nbformat_minor": 5
}
